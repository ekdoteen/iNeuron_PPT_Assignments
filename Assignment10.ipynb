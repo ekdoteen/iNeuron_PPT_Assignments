{
 "cells": [
  {
   "cell_type": "markdown",
   "id": "2657567b",
   "metadata": {},
   "source": [
    "<aside>\n",
    "💡 **Question 1**\n",
    "\n",
    "Given an integer `n`, return *`true` if it is a power of three. Otherwise, return `false`*.\n",
    "\n",
    "An integer `n` is a power of three, if there exists an integer `x` such that `n == 3x`.\n",
    "\n",
    "**Example 1:**\n",
    "\n",
    "```\n",
    "Input: n = 27\n",
    "Output: true\n",
    "Explanation: 27 = 3^3\n",
    "```\n",
    "\n",
    "**Example 2:**\n",
    "\n",
    "```\n",
    "Input: n = 0\n",
    "Output: false\n",
    "Explanation: There is no x where 3x = 0.\n",
    "\n",
    "```\n",
    "\n",
    "**Example 3:**\n",
    "    \n",
    "Input: n = -1\n",
    "    \n",
    "Output: false\n",
    "\n",
    "Explanation: There is no x where 3x = (-1).\n"
   ]
  },
  {
   "cell_type": "code",
   "execution_count": 13,
   "id": "cdee9739",
   "metadata": {},
   "outputs": [],
   "source": [
    "def is_power_of_three(n):\n",
    "    if n <= 0:\n",
    "        return False\n",
    "    while n % 3 == 0:\n",
    "        n //= 3\n",
    "    if n==1:\n",
    "        return True\n",
    "    else:\n",
    "        return False\n"
   ]
  },
  {
   "cell_type": "code",
   "execution_count": 14,
   "id": "58479960",
   "metadata": {},
   "outputs": [
    {
     "data": {
      "text/plain": [
       "False"
      ]
     },
     "execution_count": 14,
     "metadata": {},
     "output_type": "execute_result"
    }
   ],
   "source": [
    "is_power_of_three(47)"
   ]
  },
  {
   "cell_type": "markdown",
   "id": "84bf7fdb",
   "metadata": {},
   "source": [
    "You have a list `arr` of all integers in the range `[1, n]` sorted in a strictly increasing order. Apply the following algorithm on `arr`:\n",
    "\n",
    "- Starting from left to right, remove the first number and every other number afterward until you reach the end of the list.\n",
    "- Repeat the previous step again, but this time from right to left, remove the rightmost number and every other number from the remaining numbers.\n",
    "- Keep repeating the steps again, alternating left to right and right to left, until a single number remains.\n",
    "\n",
    "Given the integer `n`, return *the last number that remains in* `arr`.\n",
    "\n",
    "**Example 1:**\n",
    "\n",
    "```\n",
    "Input: n = 9\n",
    "Output: 6\n",
    "Explanation:\n",
    "arr = [1, 2,3, 4,5, 6,7, 8,9]\n",
    "arr = [2,4, 6,8]\n",
    "arr = [2, 6]\n",
    "arr = [6]\n",
    "\n",
    "```\n",
    "\n",
    "**Example 2:**\n",
    "Input: n = 1\n",
    "Output: 1"
   ]
  },
  {
   "cell_type": "code",
   "execution_count": 16,
   "id": "cf3dd78c",
   "metadata": {},
   "outputs": [],
   "source": [
    "arr = range(1,9)"
   ]
  },
  {
   "cell_type": "code",
   "execution_count": 17,
   "id": "932e32b7",
   "metadata": {},
   "outputs": [
    {
     "data": {
      "text/plain": [
       "range(1, 9)"
      ]
     },
     "execution_count": 17,
     "metadata": {},
     "output_type": "execute_result"
    }
   ],
   "source": [
    "arr"
   ]
  },
  {
   "cell_type": "code",
   "execution_count": 21,
   "id": "d00da2fe",
   "metadata": {},
   "outputs": [
    {
     "name": "stdout",
     "output_type": "stream",
     "text": [
      "6\n",
      "1\n"
     ]
    }
   ],
   "source": [
    "def last_remaining(n):\n",
    "    if n == 1:\n",
    "        return 1\n",
    "    return 2 * (n // 2 + 1 - last_remaining(n // 2))\n",
    "\n",
    "# Example usage:\n",
    "print(last_remaining(9))  \n",
    "print(last_remaining(1))  \n"
   ]
  },
  {
   "cell_type": "markdown",
   "id": "26f1ff16",
   "metadata": {},
   "source": [
    "Given a set represented as a string, write a recursive code to print all subsets of it. The subsets can be printed in any order.\n",
    "\n",
    "**Example 1:**\n",
    "\n",
    "Input :  set = “abc”\n",
    "\n",
    "Output : { “”, “a”, “b”, “c”, “ab”, “ac”, “bc”, “abc”}\n",
    "\n",
    "**Example 2:**\n",
    "\n",
    "Input : set = “abcd”\n",
    "\n",
    "Output : { “”, “a” ,”ab” ,”abc” ,”abcd”, “abd” ,”ac” ,”acd”, “ad” ,”b”, “bc” ,”bcd” ,”bd” ,”c” ,”cd” ,”d” }"
   ]
  },
  {
   "cell_type": "code",
   "execution_count": 23,
   "id": "47c27668",
   "metadata": {},
   "outputs": [
    {
     "name": "stdout",
     "output_type": "stream",
     "text": [
      "\n",
      "c\n",
      "b\n",
      "bc\n",
      "a\n",
      "ac\n",
      "ab\n",
      "abc\n"
     ]
    }
   ],
   "source": [
    "def print_subsets(s, subset, index):\n",
    "    if index == len(s):\n",
    "        print(subset)\n",
    "        return\n",
    "\n",
    "    print_subsets(s, subset, index + 1)\n",
    "    print_subsets(s, subset + s[index], index + 1)\n",
    "\n",
    "# Example usage:\n",
    "set_string = \"abc\"\n",
    "print_subsets(set_string, \"\", 0)\n"
   ]
  },
  {
   "cell_type": "markdown",
   "id": "9737e469",
   "metadata": {},
   "source": [
    "Given a string calculate length of the string using recursion.\n",
    "\n",
    "**Examples:**\n",
    "    \n",
    "    Input : str = \"abcd\"\n",
    "Output :4\n",
    "\n",
    "Input : str = \"GEEKSFORGEEKS\"\n",
    "\n",
    "Output :13"
   ]
  },
  {
   "cell_type": "code",
   "execution_count": 25,
   "id": "c6223083",
   "metadata": {},
   "outputs": [
    {
     "name": "stdout",
     "output_type": "stream",
     "text": [
      "Length of the string: 13\n"
     ]
    }
   ],
   "source": [
    "def calculate_length(string, index):\n",
    "    if index == len(string):\n",
    "        return 0\n",
    "    \n",
    "    return 1 + calculate_length(string, index + 1)\n",
    "\n",
    "# Example usage:\n",
    "string = \"Hello, World!\"\n",
    "length = calculate_length(string, 0)\n",
    "print(\"Length of the string:\", length)\n"
   ]
  },
  {
   "cell_type": "markdown",
   "id": "f194958e",
   "metadata": {},
   "source": [
    "<aside>\n",
    "💡 **Question 5**\n",
    "\n",
    "We are given a string S, we need to find count of all contiguous substrings starting and ending with same character.\n",
    "\n",
    "**Examples :**\n",
    "\n",
    "Input  : S = \"abcab\"\n",
    "    \n",
    "Output : 7\n",
    "    \n",
    "There are 15 substrings of \"abcab\"\n",
    "    \n",
    "a, ab, abc, abca, abcab, b, bc, bca\n",
    "    \n",
    "bcab, c, ca, cab, a, ab, b\n",
    "    \n",
    "Out of the above substrings, there\n",
    "are 7 substrings : a, abca, b, bcab,\n",
    "c, a and b.\n",
    "\n",
    "Input  : S = \"aba\"\n",
    "    \n",
    "Output : 4\n",
    "    \n",
    "The substrings are a, b, a and aba"
   ]
  },
  {
   "cell_type": "code",
   "execution_count": 26,
   "id": "edb79893",
   "metadata": {},
   "outputs": [],
   "source": [
    "def count_contiguous_substrings(s):\n",
    "    count = 0\n",
    "    n = len(s)\n",
    "\n",
    "    for i in range(n):\n",
    "        count += 1  # Single character substring starting with s[i]\n",
    "        j = i + 1\n",
    "\n",
    "        while j < n and s[j] == s[i]:\n",
    "            count += 1\n",
    "            j += 1\n",
    "\n",
    "    return count"
   ]
  },
  {
   "cell_type": "code",
   "execution_count": 27,
   "id": "34aa0e90",
   "metadata": {},
   "outputs": [
    {
     "data": {
      "text/plain": [
       "7"
      ]
     },
     "execution_count": 27,
     "metadata": {},
     "output_type": "execute_result"
    }
   ],
   "source": [
    "count_contiguous_substrings('deepak')"
   ]
  },
  {
   "cell_type": "markdown",
   "id": "b8fd2f55",
   "metadata": {},
   "source": [
    "The [tower of Hanoi](https://en.wikipedia.org/wiki/Tower_of_Hanoi) is a famous puzzle where we have three rods and **N** disks. The objective of the puzzle is to move the entire stack to another rod. You are given the number of discs **N**. Initially, these discs are in the rod 1. You need to print all the steps of discs movement so that all the discs reach the 3rd rod. Also, you need to find the total moves.**Note:** The discs are arranged such that the **top disc is numbered 1** and the **bottom-most disc is numbered N**. Also, all the discs have **different sizes** and a bigger disc **cannot** be put on the top of a smaller disc. Refer the provided link to get a better clarity about the puzzle.\n",
    "\n",
    "**Example 1:**\n",
    "\n"
   ]
  },
  {
   "cell_type": "markdown",
   "id": "1f406cab",
   "metadata": {},
   "source": [
    "Input:\n",
    "N = 2\n",
    "Output:\n",
    "move disk 1 from rod 1 to rod 2\n",
    "move disk 2 from rod 1 to rod 3\n",
    "move disk 1 from rod 2 to rod 3\n",
    "3\n",
    "\"\"\"Explanation:For N=2 , steps will be\n",
    "as follows in the example and total\n",
    "3 steps will be taken.\"\"\""
   ]
  },
  {
   "cell_type": "code",
   "execution_count": 30,
   "id": "9eb97652",
   "metadata": {},
   "outputs": [
    {
     "name": "stdout",
     "output_type": "stream",
     "text": [
      "move disk 1 from rod 1 to rod 2\n",
      "move disk 2 from rod 1 to rod 3\n",
      "move disk 1 from rod 2 to rod 3\n",
      "Total moves: 3\n"
     ]
    }
   ],
   "source": [
    "def tower_of_hanoi(n, source, destination, auxiliary):\n",
    "    if n == 1:\n",
    "        print(\"move disk 1 from rod\", source, \"to rod\", destination)\n",
    "        return 1\n",
    "\n",
    "    moves = 0\n",
    "    moves += tower_of_hanoi(n - 1, source, auxiliary, destination)\n",
    "    print(\"move disk\", n, \"from rod\", source, \"to rod\", destination)\n",
    "    moves += 1\n",
    "    moves += tower_of_hanoi(n - 1, auxiliary, destination, source)\n",
    "\n",
    "    return moves\n",
    "\n",
    "# Example usage:\n",
    "N = 2\n",
    "total_moves = tower_of_hanoi(N, 1, 3, 2)\n",
    "print(\"Total moves:\", total_moves)\n"
   ]
  },
  {
   "cell_type": "markdown",
   "id": "5f162580",
   "metadata": {},
   "source": [
    "Given a string **str**, the task is to print all the permutations of **str**. A **permutation** is an arrangement of all or part of a set of objects, with regard to the order of the arrangement. For instance, the words ‘bat’ and ‘tab’ represents two distinct permutation (or arrangements) of a similar three letter word.\n",
    "\n",
    "**Examples:**\n",
    "\n",
    "> Input: str = “cd”\n",
    "> \n",
    "> \n",
    "> **Output:** cd dc\n",
    "> \n",
    "> **Input:** str = “abb”\n",
    "> \n",
    "> **Output:** abb abb bab bba bab bba\n",
    ">"
   ]
  },
  {
   "cell_type": "code",
   "execution_count": 31,
   "id": "ba21e0f9",
   "metadata": {},
   "outputs": [
    {
     "name": "stdout",
     "output_type": "stream",
     "text": [
      "cd\n",
      "dc\n"
     ]
    }
   ],
   "source": [
    "def print_permutations(s, l, r):\n",
    "    if l == r:\n",
    "        print(\"\".join(s))\n",
    "    else:\n",
    "        for i in range(l, r + 1):\n",
    "            s[l], s[i] = s[i], s[l]  # Swap characters\n",
    "            print_permutations(s, l + 1, r)\n",
    "            s[l], s[i] = s[i], s[l]  # Backtrack\n",
    "\n",
    "# Example usage:\n",
    "string = \"cd\"\n",
    "n = len(string)\n",
    "string_list = list(string)\n",
    "print_permutations(string_list, 0, n - 1)\n"
   ]
  },
  {
   "cell_type": "markdown",
   "id": "4b484418",
   "metadata": {},
   "source": [
    "<aside>\n",
    "💡 **Question 8**\n",
    "\n",
    "Given a string, count total number of consonants in it. A consonant is an English alphabet character that is not vowel (a, e, i, o and u). Examples of constants are b, c, d, f, and g.\n",
    "\n",
    "**Examples :**\n",
    "    \n",
    "Input : abc de\n",
    "    \n",
    "Output : 3\n",
    "    \n",
    "There are three consonants b, c and d.\n",
    "\n",
    "Input : geeksforgeeks portal\n",
    "    \n",
    "Output : 12"
   ]
  },
  {
   "cell_type": "code",
   "execution_count": 32,
   "id": "d174344e",
   "metadata": {},
   "outputs": [
    {
     "name": "stdout",
     "output_type": "stream",
     "text": [
      "Total number of consonants: 3\n"
     ]
    }
   ],
   "source": [
    "def count_consonants(string):\n",
    "    count = 0\n",
    "    vowels = ['a', 'e', 'i', 'o', 'u']\n",
    "    string = string.lower()\n",
    "\n",
    "    for char in string:\n",
    "        if char.isalpha() and char not in vowels:\n",
    "            count += 1\n",
    "\n",
    "    return count\n",
    "\n",
    "# Example usage:\n",
    "string = \"abc de\"\n",
    "result = count_consonants(string)\n",
    "print(\"Total number of consonants:\", result)\n"
   ]
  },
  {
   "cell_type": "code",
   "execution_count": null,
   "id": "91823d60",
   "metadata": {},
   "outputs": [],
   "source": []
  }
 ],
 "metadata": {
  "kernelspec": {
   "display_name": "Python 3 (ipykernel)",
   "language": "python",
   "name": "python3"
  },
  "language_info": {
   "codemirror_mode": {
    "name": "ipython",
    "version": 3
   },
   "file_extension": ".py",
   "mimetype": "text/x-python",
   "name": "python",
   "nbconvert_exporter": "python",
   "pygments_lexer": "ipython3",
   "version": "3.9.7"
  }
 },
 "nbformat": 4,
 "nbformat_minor": 5
}
