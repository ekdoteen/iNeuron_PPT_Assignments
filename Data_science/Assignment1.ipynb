{
 "cells": [
  {
   "cell_type": "markdown",
   "id": "673d60ed",
   "metadata": {},
   "source": [
    "Write a Python program to reverse a string without using any built-in string reversal functions.\n"
   ]
  },
  {
   "cell_type": "code",
   "execution_count": 9,
   "id": "6768b1be",
   "metadata": {},
   "outputs": [],
   "source": [
    "def reverse_string(input_str):\n",
    "    reverse_string=\"\"\n",
    "    for i in input_str:\n",
    "        reverse_string = i + reverse_string\n",
    "    return reverse_string\n",
    "        \n",
    "    "
   ]
  },
  {
   "cell_type": "code",
   "execution_count": 10,
   "id": "edd60b05",
   "metadata": {},
   "outputs": [
    {
     "data": {
      "text/plain": [
       "'kapeeD'"
      ]
     },
     "execution_count": 10,
     "metadata": {},
     "output_type": "execute_result"
    }
   ],
   "source": [
    "reverse_string(\"Deepak\")"
   ]
  },
  {
   "cell_type": "markdown",
   "id": "526d9c86",
   "metadata": {},
   "source": [
    "Implement a function to check if a given string is a palindrome.\n"
   ]
  },
  {
   "cell_type": "code",
   "execution_count": 11,
   "id": "870b4ad8",
   "metadata": {},
   "outputs": [],
   "source": [
    "def palindrome(input_str):\n",
    "    reverse_string=\"\"\n",
    "    for i in input_str:\n",
    "        reverse_string = i + reverse_string\n",
    "    if input_str == reverse_string:\n",
    "        print(\"It is a palindrome\")\n",
    "    else:\n",
    "        print(\"Not a palindrome\")\n",
    "        "
   ]
  },
  {
   "cell_type": "code",
   "execution_count": 12,
   "id": "3ed854ef",
   "metadata": {},
   "outputs": [
    {
     "name": "stdout",
     "output_type": "stream",
     "text": [
      "It is a palindrome\n"
     ]
    }
   ],
   "source": [
    "palindrome(\"DeeD\")"
   ]
  },
  {
   "cell_type": "code",
   "execution_count": 13,
   "id": "a0aa9ac3",
   "metadata": {},
   "outputs": [
    {
     "name": "stdout",
     "output_type": "stream",
     "text": [
      "Not a palindrome\n"
     ]
    }
   ],
   "source": [
    "palindrome(\"Deepak\")"
   ]
  },
  {
   "cell_type": "markdown",
   "id": "fd3b2827",
   "metadata": {},
   "source": [
    "Write a program to find the largest element in a given list.\n"
   ]
  },
  {
   "cell_type": "code",
   "execution_count": 18,
   "id": "3ddcdca4",
   "metadata": {},
   "outputs": [],
   "source": [
    "def largest_element(l):\n",
    "    l.sort()\n",
    "    return l[-1]\n",
    "    "
   ]
  },
  {
   "cell_type": "code",
   "execution_count": 21,
   "id": "0e9c8d72",
   "metadata": {},
   "outputs": [
    {
     "data": {
      "text/plain": [
       "7"
      ]
     },
     "execution_count": 21,
     "metadata": {},
     "output_type": "execute_result"
    }
   ],
   "source": [
    "l =[3,2,1,4,3,5,7,5]\n",
    "largest_element(l)"
   ]
  },
  {
   "cell_type": "markdown",
   "id": "89abc68b",
   "metadata": {},
   "source": [
    "Implement a function to count the occurrence of each element in a list.\n"
   ]
  },
  {
   "cell_type": "code",
   "execution_count": 22,
   "id": "445c14c7",
   "metadata": {},
   "outputs": [],
   "source": [
    "def occurance(l):\n",
    "    dict = {}\n",
    "    for i in l:\n",
    "        if i in dict:\n",
    "            dict[i] = dict[i]+1\n",
    "        else:\n",
    "            dict[i] = 1\n",
    "    return dict"
   ]
  },
  {
   "cell_type": "code",
   "execution_count": 23,
   "id": "487d597e",
   "metadata": {},
   "outputs": [
    {
     "data": {
      "text/plain": [
       "{1: 1, 2: 1, 3: 2, 4: 1, 5: 2, 7: 1}"
      ]
     },
     "execution_count": 23,
     "metadata": {},
     "output_type": "execute_result"
    }
   ],
   "source": [
    "occurance(l)"
   ]
  },
  {
   "cell_type": "markdown",
   "id": "452eac78",
   "metadata": {},
   "source": [
    "Write a Python program to find the second largest number in a list.\n"
   ]
  },
  {
   "cell_type": "code",
   "execution_count": 25,
   "id": "0c9ceb2a",
   "metadata": {},
   "outputs": [],
   "source": [
    "#Creating set will fileter out all the duplicates\n",
    "l =[3,2,1,4,3,5,7,5]\n",
    "new_set = set(l)"
   ]
  },
  {
   "cell_type": "code",
   "execution_count": 32,
   "id": "16186020",
   "metadata": {},
   "outputs": [],
   "source": [
    "#Again we convert it back to list and this new list will not have duplicates.\n",
    "#Hence we can easily get the second largest value\n",
    "l1 = list(new_set)"
   ]
  },
  {
   "cell_type": "code",
   "execution_count": 28,
   "id": "eb133590",
   "metadata": {},
   "outputs": [
    {
     "data": {
      "text/plain": [
       "[1, 2, 3, 4, 5, 7]"
      ]
     },
     "execution_count": 28,
     "metadata": {},
     "output_type": "execute_result"
    }
   ],
   "source": [
    "l1"
   ]
  },
  {
   "cell_type": "code",
   "execution_count": 29,
   "id": "0acd033f",
   "metadata": {},
   "outputs": [
    {
     "data": {
      "text/plain": [
       "5"
      ]
     },
     "execution_count": 29,
     "metadata": {},
     "output_type": "execute_result"
    }
   ],
   "source": [
    "l1[-2]"
   ]
  },
  {
   "cell_type": "code",
   "execution_count": 30,
   "id": "dcf8a533",
   "metadata": {},
   "outputs": [],
   "source": [
    "def second_largest(l):\n",
    "    new_set = set(l)\n",
    "    l1 = list(new_set)\n",
    "    return l1[-2]\n",
    "    \n"
   ]
  },
  {
   "cell_type": "code",
   "execution_count": 31,
   "id": "2d0f1107",
   "metadata": {},
   "outputs": [
    {
     "data": {
      "text/plain": [
       "5"
      ]
     },
     "execution_count": 31,
     "metadata": {},
     "output_type": "execute_result"
    }
   ],
   "source": [
    "l =[3,2,1,4,3,5,7,5]\n",
    "second_largest(l)"
   ]
  },
  {
   "cell_type": "markdown",
   "id": "84351625",
   "metadata": {},
   "source": [
    "Implement a function to remove duplicate elements from a list.\n"
   ]
  },
  {
   "cell_type": "code",
   "execution_count": 33,
   "id": "3bb505d3",
   "metadata": {},
   "outputs": [],
   "source": [
    "def remove_duplicates(l):\n",
    "    new_set = set(l)\n",
    "    l1 = list(new_set)\n",
    "    return l1"
   ]
  },
  {
   "cell_type": "code",
   "execution_count": 34,
   "id": "74a381a2",
   "metadata": {},
   "outputs": [
    {
     "data": {
      "text/plain": [
       "[1, 2, 3, 4, 5, 7]"
      ]
     },
     "execution_count": 34,
     "metadata": {},
     "output_type": "execute_result"
    }
   ],
   "source": [
    "l =[3,2,1,4,3,5,7,5]\n",
    "remove_duplicates(l)"
   ]
  },
  {
   "cell_type": "markdown",
   "id": "69dd3c91",
   "metadata": {},
   "source": [
    "Write a program to calculate the factorial of a given number.\n"
   ]
  },
  {
   "cell_type": "code",
   "execution_count": 2,
   "id": "f8cc7020",
   "metadata": {},
   "outputs": [],
   "source": [
    "def factorial(num):\n",
    "    factorial_num = 0\n",
    "    if num==0 or num == 1:\n",
    "        factorial_num = 1\n",
    "    elif num>1:\n",
    "        factorial_num = num * factorial(num-1)\n",
    "    return factorial_num"
   ]
  },
  {
   "cell_type": "code",
   "execution_count": 3,
   "id": "e403a808",
   "metadata": {},
   "outputs": [
    {
     "data": {
      "text/plain": [
       "24"
      ]
     },
     "execution_count": 3,
     "metadata": {},
     "output_type": "execute_result"
    }
   ],
   "source": [
    "factorial(4)"
   ]
  },
  {
   "cell_type": "code",
   "execution_count": 4,
   "id": "d628f0b5",
   "metadata": {},
   "outputs": [
    {
     "data": {
      "text/plain": [
       "1"
      ]
     },
     "execution_count": 4,
     "metadata": {},
     "output_type": "execute_result"
    }
   ],
   "source": [
    "factorial(1)"
   ]
  },
  {
   "cell_type": "markdown",
   "id": "810c5bc5",
   "metadata": {},
   "source": [
    "Implement a function to check if a given number is prime.\n"
   ]
  },
  {
   "cell_type": "code",
   "execution_count": 1,
   "id": "d271d258",
   "metadata": {},
   "outputs": [
    {
     "name": "stdout",
     "output_type": "stream",
     "text": [
      "11 is a prime number\n"
     ]
    }
   ],
   "source": [
    "num = 11\n",
    "# If given number is greater than 1\n",
    "if num > 1:\n",
    "    # Iterate from 2 to n / 2\n",
    "    for i in range(2, int(num/2)+1):\n",
    "        # If num is divisible by any number between\n",
    "        # 2 and n / 2, it is not prime\n",
    "        if (num % i) == 0:\n",
    "            print(num, \"is not a prime number\")\n",
    "            break\n",
    "    else:\n",
    "        print(num, \"is a prime number\")\n",
    "else:\n",
    "    print(num, \"is not a prime number\")\n"
   ]
  },
  {
   "cell_type": "markdown",
   "id": "d913009e",
   "metadata": {},
   "source": [
    "9. Write a Python program to sort a list of integers in ascending order.\n"
   ]
  },
  {
   "cell_type": "code",
   "execution_count": 2,
   "id": "41a3520c",
   "metadata": {},
   "outputs": [
    {
     "name": "stdout",
     "output_type": "stream",
     "text": [
      "[1, 2, 3, 4, 5, 8, 9]\n"
     ]
    }
   ],
   "source": [
    "def bubble_sort(lst):\n",
    "    n = len(lst)\n",
    "    for i in range(n - 1):\n",
    "        for j in range(n - 1 - i):\n",
    "            if lst[j] > lst[j + 1]:\n",
    "                lst[j], lst[j + 1] = lst[j + 1], lst[j]\n",
    "\n",
    "# Example usage:\n",
    "my_list = [5, 3, 8, 2, 1, 9, 4]\n",
    "bubble_sort(my_list)\n",
    "print(my_list)\n"
   ]
  },
  {
   "cell_type": "markdown",
   "id": "836732f4",
   "metadata": {},
   "source": [
    "10. Implement a function to find the sum of all numbers in a list.\n"
   ]
  },
  {
   "cell_type": "code",
   "execution_count": 3,
   "id": "619b22eb",
   "metadata": {},
   "outputs": [],
   "source": [
    "def sum_list(l):\n",
    "    total=0\n",
    "    for i in l:\n",
    "        total = i+total\n",
    "    return total"
   ]
  },
  {
   "cell_type": "code",
   "execution_count": 4,
   "id": "57b48b2c",
   "metadata": {},
   "outputs": [
    {
     "data": {
      "text/plain": [
       "15"
      ]
     },
     "execution_count": 4,
     "metadata": {},
     "output_type": "execute_result"
    }
   ],
   "source": [
    "l=[1,2,3,4,5]\n",
    "sum_list(l)"
   ]
  },
  {
   "cell_type": "markdown",
   "id": "34c84eac",
   "metadata": {},
   "source": [
    "11. Write a program to find the common elements between two lists.\n"
   ]
  },
  {
   "cell_type": "code",
   "execution_count": 5,
   "id": "e5e6f2d4",
   "metadata": {},
   "outputs": [
    {
     "name": "stdout",
     "output_type": "stream",
     "text": [
      "[4, 5]\n"
     ]
    }
   ],
   "source": [
    "def find_common_elements(list1, list2):\n",
    "    common_elements = []\n",
    "    for element in list1:\n",
    "        if element in list2:\n",
    "            common_elements.append(element)\n",
    "    return common_elements\n",
    "\n",
    "# Example usage:\n",
    "list1 = [1, 2, 3, 4, 5]\n",
    "list2 = [4, 5, 6, 7, 8]\n",
    "common_elements = find_common_elements(list1, list2)\n",
    "print(common_elements)\n"
   ]
  },
  {
   "cell_type": "markdown",
   "id": "fee0d9ef",
   "metadata": {},
   "source": [
    "12. Implement a function to check if a given string is an anagram of another string.\n"
   ]
  },
  {
   "cell_type": "code",
   "execution_count": 6,
   "id": "1431d171",
   "metadata": {},
   "outputs": [
    {
     "name": "stdout",
     "output_type": "stream",
     "text": [
      "True\n"
     ]
    }
   ],
   "source": [
    "def is_anagram(str1, str2):\n",
    "    # Remove whitespace and convert to lowercase\n",
    "    str1 = str1.replace(\" \", \"\").lower()\n",
    "    str2 = str2.replace(\" \", \"\").lower()\n",
    "\n",
    "    # Check if the lengths are equal\n",
    "    if len(str1) != len(str2):\n",
    "        return False\n",
    "\n",
    "    # Convert strings to lists for comparison\n",
    "    str1_list = list(str1)\n",
    "    str2_list = list(str2)\n",
    "\n",
    "    # Sort the lists\n",
    "    str1_list.sort()\n",
    "    str2_list.sort()\n",
    "\n",
    "    # Compare the sorted lists\n",
    "    if str1_list == str2_list:\n",
    "        return True\n",
    "    else:\n",
    "        return False\n",
    "\n",
    "# Example usage:\n",
    "string1 = \"listen\"\n",
    "string2 = \"silent\"\n",
    "result = is_anagram(string1, string2)\n",
    "print(result)\n"
   ]
  },
  {
   "cell_type": "markdown",
   "id": "2c2e5046",
   "metadata": {},
   "source": [
    "13. Write a Python program to generate all permutations of a given string.\n"
   ]
  },
  {
   "cell_type": "code",
   "execution_count": 7,
   "id": "028990ac",
   "metadata": {},
   "outputs": [
    {
     "name": "stdout",
     "output_type": "stream",
     "text": [
      "['abc', 'acb', 'bac', 'bca', 'cab', 'cba']\n"
     ]
    }
   ],
   "source": [
    "def generate_permutations(string):\n",
    "    # Base case: if the string is empty, return an empty list\n",
    "    if len(string) == 0:\n",
    "        return []\n",
    "\n",
    "    # Base case: if the string has only one character, return the string itself as a single permutation\n",
    "    if len(string) == 1:\n",
    "        return [string]\n",
    "\n",
    "    # Recursive case: generate permutations for each character in the string\n",
    "    permutations = []  # Store the generated permutations\n",
    "\n",
    "    for i in range(len(string)):\n",
    "        char = string[i]\n",
    "        remaining_chars = string[:i] + string[i + 1:]  # Exclude the current character\n",
    "\n",
    "        # Generate permutations for the remaining characters\n",
    "        for permutation in generate_permutations(remaining_chars):\n",
    "            permutations.append(char + permutation)\n",
    "\n",
    "    return permutations\n",
    "\n",
    "# Example usage:\n",
    "input_string = \"abc\"\n",
    "permutations = generate_permutations(input_string)\n",
    "print(permutations)\n"
   ]
  },
  {
   "cell_type": "markdown",
   "id": "bad5de98",
   "metadata": {},
   "source": [
    "14. Implement a function to calculate the Fibonacci sequence up to a given number of terms.\n"
   ]
  },
  {
   "cell_type": "code",
   "execution_count": 8,
   "id": "85b701c8",
   "metadata": {},
   "outputs": [
    {
     "name": "stdout",
     "output_type": "stream",
     "text": [
      "[0, 1, 1, 2, 3, 5, 8, 13, 21, 34]\n"
     ]
    }
   ],
   "source": [
    "def fibonacci_sequence(num_terms):\n",
    "    if num_terms <= 0:\n",
    "        return []\n",
    "    elif num_terms == 1:\n",
    "        return [0]\n",
    "    elif num_terms == 2:\n",
    "        return [0, 1]\n",
    "    else:\n",
    "        sequence = fibonacci_sequence(num_terms - 1)\n",
    "        next_term = sequence[-1] + sequence[-2]\n",
    "        sequence.append(next_term)\n",
    "        return sequence\n",
    "\n",
    "# Example usage:\n",
    "terms = 10\n",
    "fibonacci_sequence_list = fibonacci_sequence(terms)\n",
    "print(fibonacci_sequence_list)\n",
    "\n",
    "    "
   ]
  },
  {
   "cell_type": "code",
   "execution_count": 9,
   "id": "16a4892b",
   "metadata": {},
   "outputs": [
    {
     "name": "stdout",
     "output_type": "stream",
     "text": [
      "[0, 1, 1, 2, 3, 5, 8, 13, 21, 34]\n"
     ]
    }
   ],
   "source": [
    "def fibonacci_sequence(num_terms):\n",
    "    sequence = []\n",
    "\n",
    "    # Check if the number of terms is 0 or less\n",
    "    if num_terms <= 0:\n",
    "        return sequence\n",
    "\n",
    "    # First two terms of the Fibonacci sequence\n",
    "    sequence.append(0)\n",
    "    if num_terms > 1:\n",
    "        sequence.append(1)\n",
    "\n",
    "    # Generate the remaining terms\n",
    "    while len(sequence) < num_terms:\n",
    "        next_term = sequence[-1] + sequence[-2]\n",
    "        sequence.append(next_term)\n",
    "\n",
    "    return sequence\n",
    "\n",
    "# Example usage:\n",
    "terms = 10\n",
    "fibonacci_sequence_list = fibonacci_sequence(terms)\n",
    "print(fibonacci_sequence_list)\n"
   ]
  },
  {
   "cell_type": "markdown",
   "id": "ed401036",
   "metadata": {},
   "source": [
    "15. Write a program to find the median of a list of numbers.\n"
   ]
  },
  {
   "cell_type": "code",
   "execution_count": 10,
   "id": "4a51087d",
   "metadata": {},
   "outputs": [
    {
     "name": "stdout",
     "output_type": "stream",
     "text": [
      "4\n"
     ]
    }
   ],
   "source": [
    "def find_median(numbers):\n",
    "    sorted_numbers = sorted(numbers)\n",
    "    n = len(sorted_numbers)\n",
    "    \n",
    "    if n % 2 == 0:\n",
    "        # If the number of elements is even, average the middle two numbers\n",
    "        mid_index_1 = n // 2\n",
    "        mid_index_2 = mid_index_1 - 1\n",
    "        median = (sorted_numbers[mid_index_1] + sorted_numbers[mid_index_2]) / 2\n",
    "    else:\n",
    "        # If the number of elements is odd, the middle number is the median\n",
    "        mid_index = n // 2\n",
    "        median = sorted_numbers[mid_index]\n",
    "    \n",
    "    return median\n",
    "\n",
    "# Example usage:\n",
    "my_list = [5, 3, 8, 2, 1, 9, 4]\n",
    "median = find_median(my_list)\n",
    "print(median)\n"
   ]
  },
  {
   "cell_type": "markdown",
   "id": "c12705c4",
   "metadata": {},
   "source": [
    "16. Implement a function to check if a given list is sorted in non-decreasing order.\n"
   ]
  },
  {
   "cell_type": "code",
   "execution_count": 11,
   "id": "1e799638",
   "metadata": {},
   "outputs": [
    {
     "name": "stdout",
     "output_type": "stream",
     "text": [
      "True\n"
     ]
    }
   ],
   "source": [
    "def is_sorted(lst):\n",
    "    n = len(lst)\n",
    "    for i in range(1, n):\n",
    "        if lst[i] < lst[i-1]:\n",
    "            return False\n",
    "    return True\n",
    "\n",
    "# Example usage:\n",
    "my_list = [1, 2, 3, 4, 5]\n",
    "result = is_sorted(my_list)\n",
    "print(result)\n"
   ]
  },
  {
   "cell_type": "markdown",
   "id": "ce51bb1c",
   "metadata": {},
   "source": [
    "17. Write a Python program to find the intersection of two lists.\n"
   ]
  },
  {
   "cell_type": "code",
   "execution_count": 12,
   "id": "5c366260",
   "metadata": {},
   "outputs": [
    {
     "name": "stdout",
     "output_type": "stream",
     "text": [
      "[4, 5]\n"
     ]
    }
   ],
   "source": [
    "def find_intersection(list1, list2):\n",
    "    set1 = set(list1)\n",
    "    set2 = set(list2)\n",
    "    intersection = set1.intersection(set2)\n",
    "    return list(intersection)\n",
    "\n",
    "# Example usage:\n",
    "list1 = [1, 2, 3, 4, 5]\n",
    "list2 = [4, 5, 6, 7, 8]\n",
    "intersection = find_intersection(list1, list2)\n",
    "print(intersection)\n"
   ]
  },
  {
   "cell_type": "markdown",
   "id": "fa7127c3",
   "metadata": {},
   "source": [
    "18. Implement a function to find the maximum subarray sum in a given list.\n"
   ]
  },
  {
   "cell_type": "code",
   "execution_count": 13,
   "id": "3801927a",
   "metadata": {},
   "outputs": [
    {
     "name": "stdout",
     "output_type": "stream",
     "text": [
      "6\n"
     ]
    }
   ],
   "source": [
    "def find_max_subarray_sum(lst):\n",
    "    if not lst:\n",
    "        return 0\n",
    "\n",
    "    max_sum = lst[0]\n",
    "    current_sum = lst[0]\n",
    "\n",
    "    for num in lst[1:]:\n",
    "        current_sum = max(num, current_sum + num)\n",
    "        max_sum = max(max_sum, current_sum)\n",
    "\n",
    "    return max_sum\n",
    "\n",
    "# Example usage:\n",
    "my_list = [-2, 1, -3, 4, -1, 2, 1, -5, 4]\n",
    "max_sum = find_max_subarray_sum(my_list)\n",
    "print(max_sum)\n"
   ]
  },
  {
   "cell_type": "markdown",
   "id": "b5c592fd",
   "metadata": {},
   "source": [
    "19. Write a program to remove all vowels from a given string.\n"
   ]
  },
  {
   "cell_type": "code",
   "execution_count": 14,
   "id": "870c4d52",
   "metadata": {},
   "outputs": [
    {
     "name": "stdout",
     "output_type": "stream",
     "text": [
      "Hll, Wrld!\n"
     ]
    }
   ],
   "source": [
    "def remove_vowels(string):\n",
    "    vowels = 'aeiouAEIOU'\n",
    "    filtered_string = ''.join([char for char in string if char not in vowels])\n",
    "    return filtered_string\n",
    "\n",
    "# Example usage:\n",
    "input_string = \"Hello, World!\"\n",
    "result = remove_vowels(input_string)\n",
    "print(result)\n"
   ]
  },
  {
   "cell_type": "code",
   "execution_count": 15,
   "id": "a79d67ab",
   "metadata": {},
   "outputs": [
    {
     "name": "stdout",
     "output_type": "stream",
     "text": [
      "Hll, Wrld!\n"
     ]
    }
   ],
   "source": [
    "def remove_vowels(string):\n",
    "    vowels = 'aeiouAEIOU'\n",
    "    filtered_string = ''\n",
    "    for char in string:\n",
    "        if char not in vowels:\n",
    "            filtered_string += char\n",
    "    return filtered_string\n",
    "\n",
    "# Example usage:\n",
    "input_string = \"Hello, World!\"\n",
    "result = remove_vowels(input_string)\n",
    "print(result)\n"
   ]
  },
  {
   "cell_type": "markdown",
   "id": "834f881e",
   "metadata": {},
   "source": [
    "20. Implement a function to reverse the order of words in a given sentence.\n"
   ]
  },
  {
   "cell_type": "code",
   "execution_count": 16,
   "id": "fce16704",
   "metadata": {},
   "outputs": [
    {
     "name": "stdout",
     "output_type": "stream",
     "text": [
      "OpenAI. to Welcome World! Hello,\n"
     ]
    }
   ],
   "source": [
    "def reverse_sentence(sentence):\n",
    "    words = sentence.split()\n",
    "    reversed_words = words[::-1]\n",
    "    reversed_sentence = ' '.join(reversed_words)\n",
    "    return reversed_sentence\n",
    "\n",
    "# Example usage:\n",
    "input_sentence = \"Hello, World! Welcome to OpenAI.\"\n",
    "result = reverse_sentence(input_sentence)\n",
    "print(result)\n"
   ]
  },
  {
   "cell_type": "markdown",
   "id": "4e259c99",
   "metadata": {},
   "source": [
    "21. Write a Python program to check if two strings are anagrams of each other.\n"
   ]
  },
  {
   "cell_type": "code",
   "execution_count": 17,
   "id": "ab1d4b3f",
   "metadata": {},
   "outputs": [
    {
     "name": "stdout",
     "output_type": "stream",
     "text": [
      "True\n"
     ]
    }
   ],
   "source": [
    "def is_anagram(string1, string2):\n",
    "    # Remove whitespace and convert to lowercase\n",
    "    string1 = string1.replace(\" \", \"\").lower()\n",
    "    string2 = string2.replace(\" \", \"\").lower()\n",
    "\n",
    "    # Check if the lengths are equal\n",
    "    if len(string1) != len(string2):\n",
    "        return False\n",
    "\n",
    "    # Count the occurrences of each character in both strings\n",
    "    char_count = {}\n",
    "    for char in string1:\n",
    "        if char in char_count:\n",
    "            char_count[char] += 1\n",
    "        else:\n",
    "            char_count[char] = 1\n",
    "\n",
    "    # Decrement the character count for each character in string2\n",
    "    for char in string2:\n",
    "        if char in char_count:\n",
    "            char_count[char] -= 1\n",
    "        else:\n",
    "            return False\n",
    "\n",
    "    # Check if all character counts are zero\n",
    "    for count in char_count.values():\n",
    "        if count != 0:\n",
    "            return False\n",
    "\n",
    "    return True\n",
    "\n",
    "# Example usage:\n",
    "string1 = \"listen\"\n",
    "string2 = \"silent\"\n",
    "result = is_anagram(string1, string2)\n",
    "print(result)\n"
   ]
  },
  {
   "cell_type": "markdown",
   "id": "608b8cb4",
   "metadata": {},
   "source": [
    "22. Implement a function to find the first non-repeating character in a string.\n"
   ]
  },
  {
   "cell_type": "code",
   "execution_count": 18,
   "id": "8062e4ca",
   "metadata": {},
   "outputs": [
    {
     "name": "stdout",
     "output_type": "stream",
     "text": [
      "c\n"
     ]
    }
   ],
   "source": [
    "def find_first_non_repeating_char(string):\n",
    "    char_count = {}\n",
    "    \n",
    "    # Count the occurrences of each character\n",
    "    for char in string:\n",
    "        if char in char_count:\n",
    "            char_count[char] += 1\n",
    "        else:\n",
    "            char_count[char] = 1\n",
    "    \n",
    "    # Find the first non-repeating character\n",
    "    for char in string:\n",
    "        if char_count[char] == 1:\n",
    "            return char\n",
    "    \n",
    "    # If no non-repeating character found, return None\n",
    "    return None\n",
    "\n",
    "# Example usage:\n",
    "input_string = \"abracadabra\"\n",
    "result = find_first_non_repeating_char(input_string)\n",
    "print(result)\n"
   ]
  },
  {
   "cell_type": "markdown",
   "id": "069c181f",
   "metadata": {},
   "source": [
    "23. Write a program to find the prime factors of a given number.\n"
   ]
  },
  {
   "cell_type": "code",
   "execution_count": 19,
   "id": "a2de5aac",
   "metadata": {},
   "outputs": [
    {
     "name": "stdout",
     "output_type": "stream",
     "text": [
      "[2, 2, 3, 7]\n"
     ]
    }
   ],
   "source": [
    "def find_prime_factors(number):\n",
    "    prime_factors = []\n",
    "    divisor = 2\n",
    "\n",
    "    while divisor <= number:\n",
    "        if number % divisor == 0:\n",
    "            prime_factors.append(divisor)\n",
    "            number //= divisor\n",
    "        else:\n",
    "            divisor += 1\n",
    "\n",
    "    return prime_factors\n",
    "\n",
    "# Example usage:\n",
    "num = 84\n",
    "factors = find_prime_factors(num)\n",
    "print(factors)\n"
   ]
  },
  {
   "cell_type": "markdown",
   "id": "ce114201",
   "metadata": {},
   "source": [
    "24. Implement a function to check if a given number is a power of two.\n"
   ]
  },
  {
   "cell_type": "code",
   "execution_count": 20,
   "id": "b0c333c8",
   "metadata": {},
   "outputs": [
    {
     "name": "stdout",
     "output_type": "stream",
     "text": [
      "True\n"
     ]
    }
   ],
   "source": [
    "def is_power_of_two(number):\n",
    "    if number <= 0:\n",
    "        return False\n",
    "\n",
    "    # Check if all bits except the leftmost bit are zero\n",
    "    return (number & (number - 1)) == 0\n",
    "\n",
    "# Example usage:\n",
    "num = 16\n",
    "result = is_power_of_two(num)\n",
    "print(result)\n"
   ]
  },
  {
   "cell_type": "markdown",
   "id": "9b52ed92",
   "metadata": {},
   "source": [
    "25. Write a Python program to merge two sorted lists into a single sorted list.\n"
   ]
  },
  {
   "cell_type": "code",
   "execution_count": 21,
   "id": "ecee74c2",
   "metadata": {},
   "outputs": [
    {
     "name": "stdout",
     "output_type": "stream",
     "text": [
      "[1, 2, 3, 4, 5, 6, 7, 8]\n"
     ]
    }
   ],
   "source": [
    "def merge_sorted_lists(list1, list2):\n",
    "    merged_list = []\n",
    "    i = j = 0\n",
    "\n",
    "    while i < len(list1) and j < len(list2):\n",
    "        if list1[i] <= list2[j]:\n",
    "            merged_list.append(list1[i])\n",
    "            i += 1\n",
    "        else:\n",
    "            merged_list.append(list2[j])\n",
    "            j += 1\n",
    "\n",
    "    # Append remaining elements from list1, if any\n",
    "    while i < len(list1):\n",
    "        merged_list.append(list1[i])\n",
    "        i += 1\n",
    "\n",
    "    # Append remaining elements from list2, if any\n",
    "    while j < len(list2):\n",
    "        merged_list.append(list2[j])\n",
    "        j += 1\n",
    "\n",
    "    return merged_list\n",
    "\n",
    "# Example usage:\n",
    "list1 = [1, 3, 5, 7]\n",
    "list2 = [2, 4, 6, 8]\n",
    "merged_list = merge_sorted_lists(list1, list2)\n",
    "print(merged_list)\n"
   ]
  },
  {
   "cell_type": "markdown",
   "id": "c0e60ef5",
   "metadata": {},
   "source": [
    "26. Implement a function to find the mode of a list of numbers.\n"
   ]
  },
  {
   "cell_type": "code",
   "execution_count": 22,
   "id": "cab1231a",
   "metadata": {},
   "outputs": [
    {
     "name": "stdout",
     "output_type": "stream",
     "text": [
      "[4]\n"
     ]
    }
   ],
   "source": [
    "from collections import Counter\n",
    "\n",
    "def find_mode(numbers):\n",
    "    counter = Counter(numbers)\n",
    "    mode_count = counter.most_common(1)[0][1]\n",
    "    mode = [num for num, count in counter.items() if count == mode_count]\n",
    "    return mode\n",
    "\n",
    "# Example usage:\n",
    "my_list = [1, 2, 3, 3, 4, 4, 4, 5]\n",
    "mode = find_mode(my_list)\n",
    "print(mode)\n"
   ]
  },
  {
   "cell_type": "markdown",
   "id": "0255f4aa",
   "metadata": {},
   "source": [
    "27. Write a program to find the greatest common divisor (GCD) of two numbers.\n"
   ]
  },
  {
   "cell_type": "code",
   "execution_count": 23,
   "id": "fc8e09e9",
   "metadata": {},
   "outputs": [
    {
     "name": "stdout",
     "output_type": "stream",
     "text": [
      "12\n"
     ]
    }
   ],
   "source": [
    "def find_gcd(a, b):\n",
    "    while b != 0:\n",
    "        a, b = b, a % b\n",
    "    return a\n",
    "\n",
    "# Example usage:\n",
    "num1 = 48\n",
    "num2 = 60\n",
    "gcd = find_gcd(num1, num2)\n",
    "print(gcd)\n"
   ]
  },
  {
   "cell_type": "markdown",
   "id": "85a5724a",
   "metadata": {},
   "source": [
    "28. Implement a function to calculate the square root of a given number."
   ]
  },
  {
   "cell_type": "code",
   "execution_count": 24,
   "id": "e895ed08",
   "metadata": {},
   "outputs": [
    {
     "name": "stdout",
     "output_type": "stream",
     "text": [
      "5\n"
     ]
    }
   ],
   "source": [
    "def calculate_square_root(number):\n",
    "    if number < 0:\n",
    "        raise ValueError(\"Square root is undefined for negative numbers.\")\n",
    "    elif number == 0:\n",
    "        return 0\n",
    "\n",
    "    x = number\n",
    "    y = (x + 1) // 2\n",
    "\n",
    "    while y < x:\n",
    "        x = y\n",
    "        y = (x + number // x) // 2\n",
    "\n",
    "    return x\n",
    "\n",
    "# Example usage:\n",
    "num = 25\n",
    "square_root = calculate_square_root(num)\n",
    "print(square_root)\n"
   ]
  },
  {
   "cell_type": "markdown",
   "id": "1efab66f",
   "metadata": {},
   "source": [
    "29. Write a Python program to check if a given string is a valid palindrome ignoring non-alphanumeric characters.\n"
   ]
  },
  {
   "cell_type": "code",
   "execution_count": 25,
   "id": "7b5a0271",
   "metadata": {},
   "outputs": [
    {
     "name": "stdout",
     "output_type": "stream",
     "text": [
      "True\n"
     ]
    }
   ],
   "source": [
    "def is_valid_palindrome(string):\n",
    "    # Remove non-alphanumeric characters and convert to lowercase\n",
    "    cleaned_string = \"\"\n",
    "    for char in string:\n",
    "        if char.isalnum():\n",
    "            cleaned_string += char.lower()\n",
    "\n",
    "    # Check if the cleaned string is a palindrome\n",
    "    return cleaned_string == cleaned_string[::-1]\n",
    "\n",
    "# Example usage:\n",
    "input_string = \"A man, a plan, a canal: Panama\"\n",
    "result = is_valid_palindrome(input_string)\n",
    "print(result)\n"
   ]
  },
  {
   "cell_type": "markdown",
   "id": "a729adc9",
   "metadata": {},
   "source": [
    "30. Implement a function to find the minimum element in a rotated sorted list."
   ]
  },
  {
   "cell_type": "code",
   "execution_count": 26,
   "id": "e7ccecbd",
   "metadata": {},
   "outputs": [
    {
     "name": "stdout",
     "output_type": "stream",
     "text": [
      "0\n"
     ]
    }
   ],
   "source": [
    "def find_min_in_rotated_sorted_list(nums):\n",
    "    left = 0\n",
    "    right = len(nums) - 1\n",
    "\n",
    "    # Check if the list is already sorted\n",
    "    if nums[left] <= nums[right]:\n",
    "        return nums[left]\n",
    "\n",
    "    # Perform binary search to find the minimum element\n",
    "    while left < right:\n",
    "        mid = left + (right - left) // 2\n",
    "\n",
    "        if nums[mid] > nums[right]:\n",
    "            # The minimum element is in the right half\n",
    "            left = mid + 1\n",
    "        else:\n",
    "            # The minimum element is in the left half or at mid\n",
    "            right = mid\n",
    "\n",
    "    return nums[left]\n",
    "\n",
    "# Example usage:\n",
    "my_list = [4, 5, 6, 7, 0, 1, 2]\n",
    "min_element = find_min_in_rotated_sorted_list(my_list)\n",
    "print(min_element)\n"
   ]
  },
  {
   "cell_type": "markdown",
   "id": "16fe805f",
   "metadata": {},
   "source": [
    "31. Write a program to find the sum of all even numbers in a list."
   ]
  },
  {
   "cell_type": "code",
   "execution_count": 27,
   "id": "4599cce4",
   "metadata": {},
   "outputs": [
    {
     "name": "stdout",
     "output_type": "stream",
     "text": [
      "30\n"
     ]
    }
   ],
   "source": [
    "def sum_of_even_numbers(numbers):\n",
    "    sum_even = 0\n",
    "\n",
    "    for num in numbers:\n",
    "        if num % 2 == 0:\n",
    "            sum_even += num\n",
    "\n",
    "    return sum_even\n",
    "\n",
    "# Example usage:\n",
    "my_list = [1, 2, 3, 4, 5, 6, 7, 8, 9, 10]\n",
    "result = sum_of_even_numbers(my_list)\n",
    "print(result)\n"
   ]
  },
  {
   "cell_type": "markdown",
   "id": "3182f075",
   "metadata": {},
   "source": [
    "32. Implement a function to calculate the power of a number using recursion.\n"
   ]
  },
  {
   "cell_type": "code",
   "execution_count": 28,
   "id": "4426afdf",
   "metadata": {},
   "outputs": [
    {
     "name": "stdout",
     "output_type": "stream",
     "text": [
      "8\n"
     ]
    }
   ],
   "source": [
    "def power(base, exponent):\n",
    "    if exponent == 0:\n",
    "        return 1\n",
    "    elif exponent < 0:\n",
    "        return 1 / power(base, -exponent)\n",
    "    else:\n",
    "        return base * power(base, exponent - 1)\n",
    "\n",
    "# Example usage:\n",
    "base = 2\n",
    "exponent = 3\n",
    "result = power(base, exponent)\n",
    "print(result)\n"
   ]
  },
  {
   "cell_type": "markdown",
   "id": "ef6ad961",
   "metadata": {},
   "source": [
    "33. Write a Python program to remove duplicates from a list while preserving the order.\n"
   ]
  },
  {
   "cell_type": "code",
   "execution_count": 29,
   "id": "d3ba61f3",
   "metadata": {},
   "outputs": [
    {
     "name": "stdout",
     "output_type": "stream",
     "text": [
      "[1, 3, 2, 4, 5, 6]\n"
     ]
    }
   ],
   "source": [
    "def remove_duplicates_preserve_order(lst):\n",
    "    unique_list = []\n",
    "    seen = set()\n",
    "\n",
    "    for item in lst:\n",
    "        if item not in seen:\n",
    "            unique_list.append(item)\n",
    "            seen.add(item)\n",
    "\n",
    "    return unique_list\n",
    "\n",
    "# Example usage:\n",
    "my_list = [1, 3, 2, 2, 4, 1, 5, 3, 6, 5]\n",
    "result = remove_duplicates_preserve_order(my_list)\n",
    "print(result)\n"
   ]
  },
  {
   "cell_type": "markdown",
   "id": "3835f068",
   "metadata": {},
   "source": [
    "34. Implement a function to find the longest common prefix among a list of strings."
   ]
  },
  {
   "cell_type": "code",
   "execution_count": 30,
   "id": "faf1d7ab",
   "metadata": {},
   "outputs": [
    {
     "name": "stdout",
     "output_type": "stream",
     "text": [
      "fl\n"
     ]
    }
   ],
   "source": [
    "def longest_common_prefix(strings):\n",
    "    if not strings:\n",
    "        return \"\"\n",
    "\n",
    "    # Find the minimum length string in the list\n",
    "    min_length = min(len(string) for string in strings)\n",
    "\n",
    "    # Iterate over the characters at each position\n",
    "    for i in range(min_length):\n",
    "        char = strings[0][i]\n",
    "        if any(string[i] != char for string in strings):\n",
    "            return strings[0][:i]\n",
    "\n",
    "    return strings[0][:min_length]\n",
    "\n",
    "# Example usage:\n",
    "my_list = [\"flower\", \"flow\", \"flight\"]\n",
    "result = longest_common_prefix(my_list)\n",
    "print(result)\n"
   ]
  },
  {
   "cell_type": "markdown",
   "id": "065ba6c2",
   "metadata": {},
   "source": [
    "35. Write a program to check if a given number is a perfect square.\n"
   ]
  },
  {
   "cell_type": "code",
   "execution_count": 31,
   "id": "c3a3e925",
   "metadata": {},
   "outputs": [
    {
     "name": "stdout",
     "output_type": "stream",
     "text": [
      "True\n"
     ]
    }
   ],
   "source": [
    "def is_perfect_square(number):\n",
    "    if number < 0:\n",
    "        return False\n",
    "\n",
    "    sqrt = int(number ** 0.5)\n",
    "    return sqrt * sqrt == number\n",
    "\n",
    "# Example usage:\n",
    "num = 25\n",
    "result = is_perfect_square(num)\n",
    "print(result)\n"
   ]
  },
  {
   "cell_type": "markdown",
   "id": "5bafc3ff",
   "metadata": {},
   "source": [
    "36. Implement a function to calculate the product of all elements in a list.\n"
   ]
  },
  {
   "cell_type": "code",
   "execution_count": 32,
   "id": "8183b35f",
   "metadata": {},
   "outputs": [
    {
     "name": "stdout",
     "output_type": "stream",
     "text": [
      "120\n"
     ]
    }
   ],
   "source": [
    "def calculate_product(numbers):\n",
    "    product = 1\n",
    "\n",
    "    for num in numbers:\n",
    "        product *= num\n",
    "\n",
    "    return product\n",
    "\n",
    "# Example usage:\n",
    "my_list = [1, 2, 3, 4, 5]\n",
    "result = calculate_product(my_list)\n",
    "print(result)\n"
   ]
  },
  {
   "cell_type": "markdown",
   "id": "5859ee58",
   "metadata": {},
   "source": [
    "37. Write a Python program to reverse the order of words in a sentence while preserving the word order.\n"
   ]
  },
  {
   "cell_type": "code",
   "execution_count": 33,
   "id": "acf292a4",
   "metadata": {},
   "outputs": [
    {
     "name": "stdout",
     "output_type": "stream",
     "text": [
      "you? are how Hello,\n"
     ]
    }
   ],
   "source": [
    "def reverse_words(sentence):\n",
    "    words = sentence.split()\n",
    "    reversed_sentence = ' '.join(reversed(words))\n",
    "    return reversed_sentence\n",
    "\n",
    "# Example usage:\n",
    "input_sentence = \"Hello, how are you?\"\n",
    "result = reverse_words(input_sentence)\n",
    "print(result)\n"
   ]
  },
  {
   "cell_type": "code",
   "execution_count": 34,
   "id": "c6a5b5d6",
   "metadata": {},
   "outputs": [
    {
     "name": "stdout",
     "output_type": "stream",
     "text": [
      "you? are how Hello,\n"
     ]
    }
   ],
   "source": [
    "def reverse_words(sentence):\n",
    "    words = sentence.split()\n",
    "    reversed_sentence = ''\n",
    "    for i in range(len(words) - 1, -1, -1):\n",
    "        reversed_sentence += words[i]\n",
    "        if i > 0:\n",
    "            reversed_sentence += ' '\n",
    "    return reversed_sentence\n",
    "\n",
    "# Example usage:\n",
    "input_sentence = \"Hello, how are you?\"\n",
    "result = reverse_words(input_sentence)\n",
    "print(result)\n"
   ]
  },
  {
   "cell_type": "markdown",
   "id": "72e8fa53",
   "metadata": {},
   "source": [
    "38. Implement a function to find the missing number in a given list of consecutive numbers.\n"
   ]
  },
  {
   "cell_type": "code",
   "execution_count": 35,
   "id": "635c2889",
   "metadata": {},
   "outputs": [
    {
     "name": "stdout",
     "output_type": "stream",
     "text": [
      "4\n"
     ]
    }
   ],
   "source": [
    "def find_missing_number(numbers):\n",
    "    n = len(numbers) + 1\n",
    "    total_sum = (n * (n + 1)) // 2\n",
    "    list_sum = sum(numbers)\n",
    "    missing_number = total_sum - list_sum\n",
    "    return missing_number\n",
    "\n",
    "# Example usage:\n",
    "my_list = [1, 2, 3, 5, 6, 7, 8, 9]\n",
    "result = find_missing_number(my_list)\n",
    "print(result)\n"
   ]
  },
  {
   "cell_type": "markdown",
   "id": "7e48dd84",
   "metadata": {},
   "source": [
    "39. Write a program to find the sum of digits of a given number.\n"
   ]
  },
  {
   "cell_type": "code",
   "execution_count": 36,
   "id": "b0438a4d",
   "metadata": {},
   "outputs": [
    {
     "name": "stdout",
     "output_type": "stream",
     "text": [
      "15\n"
     ]
    }
   ],
   "source": [
    "def sum_of_digits(number):\n",
    "    sum_digits = 0\n",
    "\n",
    "    # Convert number to positive if it's negative\n",
    "    number = abs(number)\n",
    "\n",
    "    while number > 0:\n",
    "        digit = number % 10\n",
    "        sum_digits += digit\n",
    "        number //= 10\n",
    "\n",
    "    return sum_digits\n",
    "\n",
    "# Example usage:\n",
    "num = 12345\n",
    "result = sum_of_digits(num)\n",
    "print(result)\n"
   ]
  },
  {
   "cell_type": "markdown",
   "id": "7684c4fb",
   "metadata": {},
   "source": [
    "40. Implement a function to check if a given string is a valid palindrome considering case sensitivity.\n"
   ]
  },
  {
   "cell_type": "code",
   "execution_count": 37,
   "id": "38c53226",
   "metadata": {},
   "outputs": [
    {
     "name": "stdout",
     "output_type": "stream",
     "text": [
      "False\n"
     ]
    }
   ],
   "source": [
    "def is_valid_palindrome(string):\n",
    "    # Remove non-alphanumeric characters\n",
    "    cleaned_string = ''.join(char for char in string if char.isalnum())\n",
    "\n",
    "    # Check if the cleaned string is equal to its reverse\n",
    "    return cleaned_string == cleaned_string[::-1]\n",
    "\n",
    "# Example usage:\n",
    "input_string = \"A man, a plan, a canal: Panama\"\n",
    "result = is_valid_palindrome(input_string)\n",
    "print(result)\n"
   ]
  },
  {
   "cell_type": "code",
   "execution_count": 38,
   "id": "672c746d",
   "metadata": {},
   "outputs": [
    {
     "name": "stdout",
     "output_type": "stream",
     "text": [
      "False\n"
     ]
    }
   ],
   "source": [
    "def is_valid_palindrome(string):\n",
    "    cleaned_string = \"\"\n",
    "    for char in string:\n",
    "        if char.isalnum():\n",
    "            cleaned_string += char\n",
    "\n",
    "    reversed_string = \"\"\n",
    "    for i in range(len(cleaned_string) - 1, -1, -1):\n",
    "        reversed_string += cleaned_string[i]\n",
    "\n",
    "    return cleaned_string == reversed_string\n",
    "\n",
    "# Example usage:\n",
    "input_string = \"A man, a plan, a canal: Panama\"\n",
    "result = is_valid_palindrome(input_string)\n",
    "print(result)\n"
   ]
  },
  {
   "cell_type": "markdown",
   "id": "bc6e8cc2",
   "metadata": {},
   "source": [
    "41. Write a Python program to find the smallest missing positive integer in a list.\n"
   ]
  },
  {
   "cell_type": "code",
   "execution_count": 39,
   "id": "8ef22bcb",
   "metadata": {},
   "outputs": [
    {
     "name": "stdout",
     "output_type": "stream",
     "text": [
      "4\n"
     ]
    }
   ],
   "source": [
    "def find_smallest_missing_positive(nums):\n",
    "    # Move all positive integers to the left side of the list\n",
    "    j = 0\n",
    "    for i in range(len(nums)):\n",
    "        if nums[i] > 0:\n",
    "            nums[i], nums[j] = nums[j], nums[i]\n",
    "            j += 1\n",
    "\n",
    "    # Consider only the positive integers in the list\n",
    "    nums = nums[:j]\n",
    "\n",
    "    # Mark the presence of positive integers using negative values\n",
    "    for num in nums:\n",
    "        index = abs(num) - 1\n",
    "        if index < len(nums) and nums[index] > 0:\n",
    "            nums[index] = -nums[index]\n",
    "\n",
    "    # Find the first positive number (missing integer)\n",
    "    for i in range(len(nums)):\n",
    "        if nums[i] > 0:\n",
    "            return i + 1\n",
    "\n",
    "    # If all positive integers are present, return the next positive integer\n",
    "    return len(nums) + 1\n",
    "\n",
    "# Example usage:\n",
    "my_list = [3, 1, -1, 2, 5]\n",
    "result = find_smallest_missing_positive(my_list)\n",
    "print(result)\n"
   ]
  },
  {
   "cell_type": "markdown",
   "id": "b379a2ce",
   "metadata": {},
   "source": [
    "42. Implement a function to find the longest palindrome substring in a given string.\n"
   ]
  },
  {
   "cell_type": "code",
   "execution_count": 40,
   "id": "cdbf6804",
   "metadata": {},
   "outputs": [
    {
     "name": "stdout",
     "output_type": "stream",
     "text": [
      "bab\n"
     ]
    }
   ],
   "source": [
    "def longest_palindrome_substring(string):\n",
    "    if not string:\n",
    "        return \"\"\n",
    "\n",
    "    longest_palindrome = \"\"\n",
    "    n = len(string)\n",
    "\n",
    "    for i in range(n):\n",
    "        # Check for odd-length palindromes centered at i\n",
    "        left = right = i\n",
    "        while left >= 0 and right < n and string[left] == string[right]:\n",
    "            left -= 1\n",
    "            right += 1\n",
    "        palindrome_odd = string[left+1:right]\n",
    "\n",
    "        # Check for even-length palindromes centered between i and i+1\n",
    "        left = i\n",
    "        right = i + 1\n",
    "        while left >= 0 and right < n and string[left] == string[right]:\n",
    "            left -= 1\n",
    "            right += 1\n",
    "        palindrome_even = string[left+1:right]\n",
    "\n",
    "        # Update the longest palindrome found so far\n",
    "        longest_palindrome = max(longest_palindrome, palindrome_odd, palindrome_even, key=len)\n",
    "\n",
    "    return longest_palindrome\n",
    "\n",
    "# Example usage:\n",
    "input_string = \"babad\"\n",
    "result = longest_palindrome_substring(input_string)\n",
    "print(result)\n"
   ]
  },
  {
   "cell_type": "markdown",
   "id": "18b926c6",
   "metadata": {},
   "source": [
    "43. Write a program to find the number of occurrences of a given element in a list.\n"
   ]
  },
  {
   "cell_type": "code",
   "execution_count": 41,
   "id": "e056c8f6",
   "metadata": {},
   "outputs": [
    {
     "name": "stdout",
     "output_type": "stream",
     "text": [
      "3\n"
     ]
    }
   ],
   "source": [
    "def count_occurrences(lst, element):\n",
    "    count = 0\n",
    "\n",
    "    for item in lst:\n",
    "        if item == element:\n",
    "            count += 1\n",
    "\n",
    "    return count\n",
    "\n",
    "# Example usage:\n",
    "my_list = [1, 2, 3, 4, 1, 2, 1, 2]\n",
    "target_element = 1\n",
    "result = count_occurrences(my_list, target_element)\n",
    "print(result)\n"
   ]
  },
  {
   "cell_type": "markdown",
   "id": "748e0c80",
   "metadata": {},
   "source": [
    "44. Implement a function to check if a given number is a perfect number.\n"
   ]
  },
  {
   "cell_type": "code",
   "execution_count": 42,
   "id": "611d411a",
   "metadata": {},
   "outputs": [
    {
     "name": "stdout",
     "output_type": "stream",
     "text": [
      "True\n"
     ]
    }
   ],
   "source": [
    "def is_perfect_number(number):\n",
    "    if number <= 0:\n",
    "        return False\n",
    "\n",
    "    divisor_sum = sum(i for i in range(1, number) if number % i == 0)\n",
    "    return divisor_sum == number\n",
    "\n",
    "# Example usage:\n",
    "num = 28\n",
    "result = is_perfect_number(num)\n",
    "print(result)\n"
   ]
  },
  {
   "cell_type": "markdown",
   "id": "e3a5dc2b",
   "metadata": {},
   "source": [
    "45. Write a Python program to remove all duplicates from a string.\n"
   ]
  },
  {
   "cell_type": "code",
   "execution_count": 43,
   "id": "d6f7434b",
   "metadata": {},
   "outputs": [
    {
     "name": "stdout",
     "output_type": "stream",
     "text": [
      "Helo, Wrd!\n"
     ]
    }
   ],
   "source": [
    "def remove_duplicates(string):\n",
    "    unique_chars = \"\"\n",
    "\n",
    "    for char in string:\n",
    "        if char not in unique_chars:\n",
    "            unique_chars += char\n",
    "\n",
    "    return unique_chars\n",
    "\n",
    "# Example usage:\n",
    "input_string = \"Hello, World!\"\n",
    "result = remove_duplicates(input_string)\n",
    "print(result)\n"
   ]
  },
  {
   "cell_type": "markdown",
   "id": "3369c5f3",
   "metadata": {},
   "source": [
    "46. Implement a function to find the first missing positive\n"
   ]
  },
  {
   "cell_type": "code",
   "execution_count": 44,
   "id": "194a9c28",
   "metadata": {},
   "outputs": [
    {
     "name": "stdout",
     "output_type": "stream",
     "text": [
      "2\n"
     ]
    }
   ],
   "source": [
    "def find_first_missing_positive(nums):\n",
    "    # Separate positive and non-positive integers\n",
    "    i = 0\n",
    "    n = len(nums)\n",
    "    while i < n:\n",
    "        # Place the positive integer in its correct position\n",
    "        if 1 <= nums[i] <= n and nums[nums[i] - 1] != nums[i]:\n",
    "            nums[nums[i] - 1], nums[i] = nums[i], nums[nums[i] - 1]\n",
    "        else:\n",
    "            i += 1\n",
    "\n",
    "    # Find the first missing positive number\n",
    "    for i in range(n):\n",
    "        if nums[i] != i + 1:\n",
    "            return i + 1\n",
    "\n",
    "    # If all positive integers are present, return the next positive integer\n",
    "    return n + 1\n",
    "\n",
    "# Example usage:\n",
    "my_list = [3, 4, -1, 1]\n",
    "result = find_first_missing_positive(my_list)\n",
    "print(result)\n"
   ]
  },
  {
   "cell_type": "code",
   "execution_count": null,
   "id": "ada8fabe",
   "metadata": {},
   "outputs": [],
   "source": []
  }
 ],
 "metadata": {
  "kernelspec": {
   "display_name": "Python 3 (ipykernel)",
   "language": "python",
   "name": "python3"
  },
  "language_info": {
   "codemirror_mode": {
    "name": "ipython",
    "version": 3
   },
   "file_extension": ".py",
   "mimetype": "text/x-python",
   "name": "python",
   "nbconvert_exporter": "python",
   "pygments_lexer": "ipython3",
   "version": "3.9.7"
  }
 },
 "nbformat": 4,
 "nbformat_minor": 5
}
