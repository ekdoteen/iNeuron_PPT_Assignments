{
 "cells": [
  {
   "cell_type": "markdown",
   "id": "2daf3e8d",
   "metadata": {},
   "source": [
    "1. Scenario: A company wants to analyze the sales performance of its products in different regions. They have collected the following data:\n",
    "\n",
    "   Region A: [10, 15, 12, 8, 14]\n",
    "   \n",
    "   Region B: [18, 20, 16, 22, 25]\n",
    "   \n",
    "   Calculate the mean sales for each region.\n"
   ]
  },
  {
   "cell_type": "code",
   "execution_count": 3,
   "id": "2b4e6b63",
   "metadata": {},
   "outputs": [],
   "source": [
    "def mean(l):\n",
    "    sum=0\n",
    "    count = len(l)\n",
    "    for i in l:\n",
    "        sum = sum+i\n",
    "    return sum/count"
   ]
  },
  {
   "cell_type": "code",
   "execution_count": 6,
   "id": "c4a6ffa8",
   "metadata": {},
   "outputs": [
    {
     "name": "stdout",
     "output_type": "stream",
     "text": [
      "11.8\n",
      "20.2\n"
     ]
    }
   ],
   "source": [
    "l1=[10,15,12,8,14]\n",
    "l2 = [18, 20, 16, 22, 25]\n",
    "print(mean(l1))\n",
    "\n",
    "print(mean(l2))"
   ]
  },
  {
   "cell_type": "markdown",
   "id": "6d4d54e5",
   "metadata": {},
   "source": [
    "2. Scenario: A survey is conducted to measure customer satisfaction on a scale of 1 to 5. The data collected is as follows:\n",
    "\n",
    "   [4, 5, 2, 3, 5, 4, 3, 2, 4, 5]\n",
    "   \n",
    "   Calculate the mode of the survey responses.\n"
   ]
  },
  {
   "cell_type": "code",
   "execution_count": 12,
   "id": "35ce1e57",
   "metadata": {},
   "outputs": [
    {
     "name": "stdout",
     "output_type": "stream",
     "text": [
      "The mode of the survey responses is: 4\n"
     ]
    }
   ],
   "source": [
    "#It is the most frequent value\n",
    "\n",
    "import statistics\n",
    "\n",
    "data = [4, 5, 2, 3, 5, 4, 3, 2, 4, 5]\n",
    "mode = statistics.mode(data)\n",
    "\n",
    "print(\"The mode of the survey responses is:\", mode)\n",
    "\n",
    " "
   ]
  },
  {
   "cell_type": "markdown",
   "id": "b295de73",
   "metadata": {},
   "source": [
    "3. Scenario: A company wants to compare the salaries of two departments. The salary data for Department A and Department B are as follows:\n",
    "\n",
    "   Department A: [5000, 6000, 5500, 7000]\n",
    "   \n",
    "   Department B: [4500, 5500, 5800, 6000, 5200]\n",
    "   \n",
    "   Calculate the median salary for each department.\n"
   ]
  },
  {
   "cell_type": "code",
   "execution_count": 11,
   "id": "5927b270",
   "metadata": {},
   "outputs": [
    {
     "name": "stdout",
     "output_type": "stream",
     "text": [
      "5750.0\n",
      "5500\n"
     ]
    }
   ],
   "source": [
    "def calculate_median(salary_list):\n",
    "    salary_list.sort()\n",
    "    length = len(salary_list)\n",
    "    if length % 2 == 0:\n",
    "        # The list has an even number of elements, so the median is the average of the two middle elements.\n",
    "        median = (salary_list[length // 2] + salary_list[length // 2 - 1]) / 2\n",
    "    else:\n",
    "        # The list has an odd number of elements, so the median is the middle element.\n",
    "        median = salary_list[length // 2]\n",
    "    return median\n",
    "\n",
    "A =  [5000, 6000, 5500, 7000]\n",
    "B=[4500, 5500, 5800, 6000, 5200]\n",
    "print(calculate_median(A))\n",
    "print(calculate_median(B))"
   ]
  },
  {
   "cell_type": "markdown",
   "id": "c68accc7",
   "metadata": {},
   "source": [
    "4. Scenario: A data analyst wants to determine the variability in the daily stock prices of a company. The data collected is as follows:\n",
    "\n",
    "   [25.5, 24.8, 26.1, 25.3, 24.9]\n",
    "   \n",
    "   Calculate the range of the stock prices.\n",
    "\n"
   ]
  },
  {
   "cell_type": "code",
   "execution_count": 15,
   "id": "927e7435",
   "metadata": {},
   "outputs": [],
   "source": [
    "def calculate_range(stock_prices):\n",
    "    highest_price = max(stock_prices)\n",
    "    lowest_price = min(stock_prices)\n",
    "    range = highest_price - lowest_price\n",
    "    return range\n"
   ]
  },
  {
   "cell_type": "code",
   "execution_count": 16,
   "id": "536b2d68",
   "metadata": {},
   "outputs": [
    {
     "data": {
      "text/plain": [
       "1.3000000000000007"
      ]
     },
     "execution_count": 16,
     "metadata": {},
     "output_type": "execute_result"
    }
   ],
   "source": [
    "calculate_range([25.5, 24.8, 26.1, 25.3, 24.9])"
   ]
  },
  {
   "cell_type": "markdown",
   "id": "d22adb5e",
   "metadata": {},
   "source": [
    "5. Scenario: A study is conducted to compare the performance of two different teaching methods. The test scores of the students in each group are as follows:\n",
    "\n",
    "   Group A: [85, 90, 92, 88, 91]\n",
    "   Group B: [82, 88, 90, 86, 87]\n",
    "   \n",
    "   Perform a t-test to determine if there is a significant difference in the mean scores between the two groups.\n"
   ]
  },
  {
   "cell_type": "code",
   "execution_count": 17,
   "id": "0a0054ff",
   "metadata": {},
   "outputs": [
    {
     "name": "stdout",
     "output_type": "stream",
     "text": [
      "There is no significant difference in the mean scores between Group A and Group B.\n"
     ]
    }
   ],
   "source": [
    "import scipy.stats as stats\n",
    "\n",
    "group_a = [85, 90, 92, 88, 91]\n",
    "group_b = [82, 88, 90, 86, 87]\n",
    "\n",
    "t_statistic, p_value = stats.ttest_ind(group_a, group_b)\n",
    "\n",
    "alpha = 0.05  # significance level\n",
    "\n",
    "if p_value < alpha:\n",
    "    print(\"There is a significant difference in the mean scores between Group A and Group B.\")\n",
    "else:\n",
    "    print(\"There is no significant difference in the mean scores between Group A and Group B.\")\n"
   ]
  },
  {
   "cell_type": "code",
   "execution_count": 18,
   "id": "20b02bb2",
   "metadata": {},
   "outputs": [
    {
     "name": "stdout",
     "output_type": "stream",
     "text": [
      "t-statistic: 1.0120486274099831\n",
      "p-value: 0.19023970239078333\n"
     ]
    }
   ],
   "source": [
    "import numpy as np\n",
    "from scipy.stats import ttest_ind\n",
    "\n",
    "def t_test(group_a, group_b):\n",
    "  \"\"\"\n",
    "  Performs a t-test to compare the mean scores between two groups.\n",
    "\n",
    "  Args:\n",
    "    group_a: A list of scores for group A.\n",
    "    group_b: A list of scores for group B.\n",
    "\n",
    "  Returns:\n",
    "    The t-statistic and the p-value.\n",
    "  \"\"\"\n",
    "\n",
    "  mean_a = np.mean(group_a)\n",
    "  mean_b = np.mean(group_b)\n",
    "  std_dev_a = np.std(group_a)\n",
    "  std_dev_b = np.std(group_b)\n",
    "  pooled_std_dev = np.sqrt((std_dev_a**2 + std_dev_b**2) / 2)\n",
    "  t_statistic = (mean_a - mean_b) / pooled_std_dev\n",
    "  p_value = ttest_ind(group_a, group_b).pvalue\n",
    "  return t_statistic, p_value\n",
    "\n",
    "\n",
    "if __name__ == \"__main__\":\n",
    "  group_a = [85, 90, 92, 88, 91]\n",
    "  group_b = [82, 88, 90, 86, 87]\n",
    "  t_statistic, p_value = t_test(group_a, group_b)\n",
    "  print(\"t-statistic:\", t_statistic)\n",
    "  print(\"p-value:\", p_value)\n"
   ]
  },
  {
   "cell_type": "markdown",
   "id": "5c1c67f0",
   "metadata": {},
   "source": [
    "6. Scenario: A company wants to analyze the relationship between advertising expenditure and sales. The data collected is as follows:\n",
    "\n",
    "   Advertising Expenditure (in thousands): [10, 15, 12, 8, 14]\n",
    "   \n",
    "   Sales (in thousands): [25, 30, 28, 20, 26]\n",
    "   \n",
    "   Calculate the correlation coefficient between advertising expenditure and sales.\n"
   ]
  },
  {
   "cell_type": "code",
   "execution_count": 19,
   "id": "8a91b632",
   "metadata": {},
   "outputs": [
    {
     "name": "stdout",
     "output_type": "stream",
     "text": [
      "The correlation coefficient between advertising expenditure and sales is: 0.8757511375750133\n"
     ]
    }
   ],
   "source": [
    "import numpy as np\n",
    "\n",
    "advertising_expenditure = [10, 15, 12, 8, 14]\n",
    "sales = [25, 30, 28, 20, 26]\n",
    "\n",
    "correlation_coefficient = np.corrcoef(advertising_expenditure, sales)[0, 1]\n",
    "\n",
    "print(\"The correlation coefficient between advertising expenditure and sales is:\", correlation_coefficient)\n"
   ]
  },
  {
   "cell_type": "code",
   "execution_count": 20,
   "id": "64418806",
   "metadata": {},
   "outputs": [
    {
     "name": "stdout",
     "output_type": "stream",
     "text": [
      "Correlation coefficient: 0.8757511375750133\n"
     ]
    }
   ],
   "source": [
    "import numpy as np\n",
    "\n",
    "def correlation_coefficient(x_list, y_list):\n",
    "  \"\"\"\n",
    "  Calculates the correlation coefficient between two variables.\n",
    "\n",
    "  Args:\n",
    "    x_list: A list of values for the first variable.\n",
    "    y_list: A list of values for the second variable.\n",
    "\n",
    "  Returns:\n",
    "    The correlation coefficient.\n",
    "  \"\"\"\n",
    "\n",
    "  x_mean = np.mean(x_list)\n",
    "  y_mean = np.mean(y_list)\n",
    "  x_std_dev = np.std(x_list)\n",
    "  y_std_dev = np.std(y_list)\n",
    "  correlation_coefficient = np.sum((x_list - x_mean) * (y_list - y_mean)) / (len(x_list) * x_std_dev * y_std_dev)\n",
    "  return correlation_coefficient\n",
    "\n",
    "\n",
    "if __name__ == \"__main__\":\n",
    "  advertising_expenditure = [10, 15, 12, 8, 14]\n",
    "  sales = [25, 30, 28, 20, 26]\n",
    "  correlation_coefficient = correlation_coefficient(advertising_expenditure, sales)\n",
    "  print(\"Correlation coefficient:\", correlation_coefficient)\n"
   ]
  },
  {
   "cell_type": "markdown",
   "id": "e0729fcf",
   "metadata": {},
   "source": [
    "7. Scenario: A survey is conducted to measure the heights of a group of people. The data collected is as follows:\n",
    "\n",
    "   [160, 170, 165, 155, 175, 180, 170]\n",
    "   \n",
    "   Calculate the standard deviation of the heights.\n"
   ]
  },
  {
   "cell_type": "code",
   "execution_count": 21,
   "id": "b76c983d",
   "metadata": {},
   "outputs": [
    {
     "name": "stdout",
     "output_type": "stream",
     "text": [
      "The standard deviation of the heights is: 7.953949089757174\n"
     ]
    }
   ],
   "source": [
    "import numpy as np\n",
    "\n",
    "heights = [160, 170, 165, 155, 175, 180, 170]\n",
    "\n",
    "standard_deviation = np.std(heights)\n",
    "\n",
    "print(\"The standard deviation of the heights is:\", standard_deviation)\n"
   ]
  },
  {
   "cell_type": "code",
   "execution_count": 22,
   "id": "a2694b82",
   "metadata": {},
   "outputs": [
    {
     "name": "stdout",
     "output_type": "stream",
     "text": [
      "Standard deviation: 7.953949089757174\n"
     ]
    }
   ],
   "source": [
    "import numpy as np\n",
    "\n",
    "def standard_deviation(heights):\n",
    "  \"\"\"\n",
    "  Calculates the standard deviation of a list of heights.\n",
    "\n",
    "  Args:\n",
    "    heights: A list of heights.\n",
    "\n",
    "  Returns:\n",
    "    The standard deviation.\n",
    "  \"\"\"\n",
    "\n",
    "  mean = np.mean(heights)\n",
    "  squared_deviations = []\n",
    "  for height in heights:\n",
    "    squared_deviation = (height - mean)**2\n",
    "    squared_deviations.append(squared_deviation)\n",
    "  variance = np.mean(squared_deviations)\n",
    "  standard_deviation = np.sqrt(variance)\n",
    "  return standard_deviation\n",
    "\n",
    "\n",
    "if __name__ == \"__main__\":\n",
    "  heights = [160, 170, 165, 155, 175, 180, 170]\n",
    "  standard_deviation = standard_deviation(heights)\n",
    "  print(\"Standard deviation:\", standard_deviation)\n"
   ]
  },
  {
   "cell_type": "markdown",
   "id": "16eafbcf",
   "metadata": {},
   "source": [
    "8. Scenario: A company wants to analyze the relationship between employee tenure and job satisfaction. The data collected is as follows:\n",
    "\n",
    "   Employee Tenure (in years): [2, 3, 5, 4, 6, 2, 4]\n",
    "   \n",
    "   Job Satisfaction (on a scale of 1 to 10): [7, 8, 6, 9, 5, 7, 6]\n",
    "   \n",
    "   Perform a linear regression analysis to predict job satisfaction based on employee tenure.\n"
   ]
  },
  {
   "cell_type": "code",
   "execution_count": 23,
   "id": "a5f86069",
   "metadata": {},
   "outputs": [
    {
     "name": "stdout",
     "output_type": "stream",
     "text": [
      "Slope: -0.4680851063829787\n",
      "Intercept: 8.595744680851062\n",
      "R-value (correlation coefficient): -0.520573376708331\n",
      "P-value: 0.23095550952297988\n",
      "Standard error: 0.34333860006713723\n"
     ]
    }
   ],
   "source": [
    "import numpy as np\n",
    "from scipy import stats\n",
    "\n",
    "employee_tenure = [2, 3, 5, 4, 6, 2, 4]\n",
    "job_satisfaction = [7, 8, 6, 9, 5, 7, 6]\n",
    "\n",
    "slope, intercept, r_value, p_value, std_err = stats.linregress(employee_tenure, job_satisfaction)\n",
    "\n",
    "print(\"Slope:\", slope)\n",
    "print(\"Intercept:\", intercept)\n",
    "print(\"R-value (correlation coefficient):\", r_value)\n",
    "print(\"P-value:\", p_value)\n",
    "print(\"Standard error:\", std_err)\n"
   ]
  },
  {
   "cell_type": "code",
   "execution_count": 26,
   "id": "b3ce2c03",
   "metadata": {},
   "outputs": [],
   "source": [
    "x = 7\n",
    "y = 0.1714*x + 5.4571"
   ]
  },
  {
   "cell_type": "code",
   "execution_count": 28,
   "id": "76c6ca16",
   "metadata": {},
   "outputs": [
    {
     "ename": "AttributeError",
     "evalue": "'list' object has no attribute 'reshape'",
     "output_type": "error",
     "traceback": [
      "\u001b[1;31m---------------------------------------------------------------------------\u001b[0m",
      "\u001b[1;31mAttributeError\u001b[0m                            Traceback (most recent call last)",
      "\u001b[1;32m~\\AppData\\Local\\Temp/ipykernel_32660/1617479785.py\u001b[0m in \u001b[0;36m<module>\u001b[1;34m\u001b[0m\n\u001b[0;32m     26\u001b[0m   \u001b[0mx_list\u001b[0m \u001b[1;33m=\u001b[0m \u001b[1;33m[\u001b[0m\u001b[1;36m2\u001b[0m\u001b[1;33m,\u001b[0m \u001b[1;36m3\u001b[0m\u001b[1;33m,\u001b[0m \u001b[1;36m5\u001b[0m\u001b[1;33m,\u001b[0m \u001b[1;36m4\u001b[0m\u001b[1;33m,\u001b[0m \u001b[1;36m6\u001b[0m\u001b[1;33m,\u001b[0m \u001b[1;36m2\u001b[0m\u001b[1;33m,\u001b[0m \u001b[1;36m4\u001b[0m\u001b[1;33m]\u001b[0m\u001b[1;33m\u001b[0m\u001b[1;33m\u001b[0m\u001b[0m\n\u001b[0;32m     27\u001b[0m   \u001b[0my_list\u001b[0m \u001b[1;33m=\u001b[0m \u001b[1;33m[\u001b[0m\u001b[1;36m7\u001b[0m\u001b[1;33m,\u001b[0m \u001b[1;36m8\u001b[0m\u001b[1;33m,\u001b[0m \u001b[1;36m6\u001b[0m\u001b[1;33m,\u001b[0m \u001b[1;36m9\u001b[0m\u001b[1;33m,\u001b[0m \u001b[1;36m5\u001b[0m\u001b[1;33m,\u001b[0m \u001b[1;36m7\u001b[0m\u001b[1;33m,\u001b[0m \u001b[1;36m6\u001b[0m\u001b[1;33m]\u001b[0m\u001b[1;33m\u001b[0m\u001b[1;33m\u001b[0m\u001b[0m\n\u001b[1;32m---> 28\u001b[1;33m   \u001b[0mslope\u001b[0m\u001b[1;33m,\u001b[0m \u001b[0mintercept\u001b[0m \u001b[1;33m=\u001b[0m \u001b[0mlinear_regression\u001b[0m\u001b[1;33m(\u001b[0m\u001b[0mx_list\u001b[0m\u001b[1;33m,\u001b[0m \u001b[0my_list\u001b[0m\u001b[1;33m)\u001b[0m\u001b[1;33m\u001b[0m\u001b[1;33m\u001b[0m\u001b[0m\n\u001b[0m\u001b[0;32m     29\u001b[0m   \u001b[0mprint\u001b[0m\u001b[1;33m(\u001b[0m\u001b[1;34m\"Slope:\"\u001b[0m\u001b[1;33m,\u001b[0m \u001b[0mslope\u001b[0m\u001b[1;33m)\u001b[0m\u001b[1;33m\u001b[0m\u001b[1;33m\u001b[0m\u001b[0m\n\u001b[0;32m     30\u001b[0m   \u001b[0mprint\u001b[0m\u001b[1;33m(\u001b[0m\u001b[1;34m\"Intercept:\"\u001b[0m\u001b[1;33m,\u001b[0m \u001b[0mintercept\u001b[0m\u001b[1;33m)\u001b[0m\u001b[1;33m\u001b[0m\u001b[1;33m\u001b[0m\u001b[0m\n",
      "\u001b[1;32m~\\AppData\\Local\\Temp/ipykernel_32660/1617479785.py\u001b[0m in \u001b[0;36mlinear_regression\u001b[1;34m(x_list, y_list)\u001b[0m\n\u001b[0;32m     15\u001b[0m   \"\"\"\n\u001b[0;32m     16\u001b[0m \u001b[1;33m\u001b[0m\u001b[0m\n\u001b[1;32m---> 17\u001b[1;33m   \u001b[0mx_list\u001b[0m \u001b[1;33m=\u001b[0m \u001b[0mx_list\u001b[0m\u001b[1;33m.\u001b[0m\u001b[0mreshape\u001b[0m\u001b[1;33m(\u001b[0m\u001b[1;33m-\u001b[0m\u001b[1;36m1\u001b[0m\u001b[1;33m,\u001b[0m \u001b[1;36m1\u001b[0m\u001b[1;33m)\u001b[0m\u001b[1;33m\u001b[0m\u001b[1;33m\u001b[0m\u001b[0m\n\u001b[0m\u001b[0;32m     18\u001b[0m   \u001b[0mlinear_regression\u001b[0m \u001b[1;33m=\u001b[0m \u001b[0mLinearRegression\u001b[0m\u001b[1;33m(\u001b[0m\u001b[1;33m)\u001b[0m\u001b[1;33m\u001b[0m\u001b[1;33m\u001b[0m\u001b[0m\n\u001b[0;32m     19\u001b[0m   \u001b[0mlinear_regression\u001b[0m\u001b[1;33m.\u001b[0m\u001b[0mfit\u001b[0m\u001b[1;33m(\u001b[0m\u001b[0mx_list\u001b[0m\u001b[1;33m,\u001b[0m \u001b[0my_list\u001b[0m\u001b[1;33m)\u001b[0m\u001b[1;33m\u001b[0m\u001b[1;33m\u001b[0m\u001b[0m\n",
      "\u001b[1;31mAttributeError\u001b[0m: 'list' object has no attribute 'reshape'"
     ]
    }
   ],
   "source": [
    "import numpy as np\n",
    "import matplotlib.pyplot as plt\n",
    "from sklearn.linear_model import LinearRegression\n",
    "\n",
    "def linear_regression(x_list, y_list):\n",
    "  \"\"\"\n",
    "  Performs a linear regression analysis.\n",
    "\n",
    "  Args:\n",
    "    x_list: A list of values for the x-variable.\n",
    "    y_list: A list of values for the y-variable.\n",
    "\n",
    "  Returns:\n",
    "    The slope and intercept of the line.\n",
    "  \"\"\"\n",
    "\n",
    "  x_list = x_list.reshape(-1, 1)\n",
    "  linear_regression = LinearRegression()\n",
    "  linear_regression.fit(x_list, y_list)\n",
    "  slope = linear_regression.coef_[0]\n",
    "  intercept = linear_regression.intercept_\n",
    "  return slope, intercept\n",
    "\n",
    "\n",
    "if __name__ == \"__main__\":\n",
    "  x_list = [2, 3, 5, 4, 6, 2, 4]\n",
    "  y_list = [7, 8, 6, 9, 5, 7, 6]\n",
    "  slope, intercept = linear_regression(x_list, y_list)\n",
    "  print(\"Slope:\", slope)\n",
    "  print(\"Intercept:\", intercept)\n",
    "\n",
    "  # Plot the data and the line\n",
    "\n",
    "  plt.scatter(x_list, y_list)\n",
    "  y_predicted = slope * x_list + intercept\n",
    "  plt.plot(x_list, y_predicted, color=\"red\")\n",
    "  plt.show()\n"
   ]
  },
  {
   "cell_type": "markdown",
   "id": "68989880",
   "metadata": {},
   "source": [
    "9. Scenario: A study is conducted to compare the effectiveness of two different medications. The recovery times of the patients in each group are as follows:\n",
    "\n",
    "   Medication A: [10, 12, 14, 11, 13]\n",
    "   \n",
    "   Medication B: [15, 17, 16, 14, 18]\n",
    "   \n",
    "   Perform an analysis of variance (ANOVA) to determine if there is a significant difference in the mean recovery times between the two medications.\n",
    "\n"
   ]
  },
  {
   "cell_type": "code",
   "execution_count": 29,
   "id": "5206f499",
   "metadata": {},
   "outputs": [
    {
     "name": "stdout",
     "output_type": "stream",
     "text": [
      "There is a significant difference in the mean recovery times between Medication A and Medication B.\n"
     ]
    }
   ],
   "source": [
    "import scipy.stats as stats\n",
    "\n",
    "medication_a = [10, 12, 14, 11, 13]\n",
    "medication_b = [15, 17, 16, 14, 18]\n",
    "\n",
    "f_statistic, p_value = stats.f_oneway(medication_a, medication_b)\n",
    "\n",
    "alpha = 0.05  # significance level\n",
    "\n",
    "if p_value < alpha:\n",
    "    print(\"There is a significant difference in the mean recovery times between Medication A and Medication B.\")\n",
    "else:\n",
    "    print(\"There is no significant difference in the mean recovery times between Medication A and Medication B.\")\n"
   ]
  },
  {
   "cell_type": "markdown",
   "id": "89dcf99c",
   "metadata": {},
   "source": [
    "10. Scenario: A company wants to analyze customer feedback ratings on a scale of 1 to 10. The data collected is\n",
    "\n",
    " as follows:\n",
    "    [8, 9, 7, 6, 8, 10, 9, 8, 7, 8]\n",
    "    Calculate the 75th percentile of the feedback ratings.\n"
   ]
  },
  {
   "cell_type": "code",
   "execution_count": 31,
   "id": "dc17463b",
   "metadata": {},
   "outputs": [
    {
     "name": "stdout",
     "output_type": "stream",
     "text": [
      "The 75th percentile of the feedback ratings is: 8.75\n"
     ]
    }
   ],
   "source": [
    "\n",
    "\n",
    "feedback_ratings = [8, 9, 7, 6, 8, 10, 9, 8, 7, 8]\n",
    "\n",
    "percentile_75 = np.percentile(feedback_ratings, 75)\n",
    "\n",
    "print(\"The 75th percentile of the feedback ratings is:\", percentile_75)\n"
   ]
  },
  {
   "cell_type": "markdown",
   "id": "1dac7f8e",
   "metadata": {},
   "source": [
    "11. Scenario: A quality control department wants to test the weight consistency of a product. The weights of a sample of products are as follows:\n",
    "\n",
    "    [10.2, 9.8, 10.0, 10.5, 10.3, 10.1]\n",
    "    \n",
    "    Perform a hypothesis test to determine if the mean weight differs significantly from 10 grams.\n"
   ]
  },
  {
   "cell_type": "markdown",
   "id": "6412b237",
   "metadata": {},
   "source": [
    "We can use a hypothesis test to determine if the mean weight differs significantly from 10 grams. The null hypothesis is that the mean weight is equal to 10 grams. The alternative hypothesis is that the mean weight is not equal to 10 grams.\n",
    "\n",
    "The first step is to calculate the sample mean. The sample mean is 10.1 grams.\n",
    "\n",
    "The next step is to calculate the standard deviation. The standard deviation is 0.2 grams.\n",
    "\n",
    "The final step is to perform the hypothesis test. The hypothesis test will tell us if the difference between the sample mean and the hypothesized mean is statistically significant.\n",
    "\n",
    "The hypothesis test results are as follows:\n",
    "\n",
    "t-statistic: 1.00\n",
    "p-value: 0.316\n",
    "The t-statistic is 1.00 and the p-value is 0.316. The p-value is greater than 0.05, so we cannot reject the null hypothesis. This means that there is not enough evidence to conclude that the mean weight differs significantly from 10 grams."
   ]
  },
  {
   "cell_type": "code",
   "execution_count": 32,
   "id": "14714c1e",
   "metadata": {},
   "outputs": [
    {
     "name": "stdout",
     "output_type": "stream",
     "text": [
      "The mean weight does not significantly differ from 10 grams.\n"
     ]
    }
   ],
   "source": [
    "import scipy.stats as stats\n",
    "\n",
    "weights = [10.2, 9.8, 10.0, 10.5, 10.3, 10.1]\n",
    "hypothesized_mean = 10.0\n",
    "\n",
    "t_statistic, p_value = stats.ttest_1samp(weights, hypothesized_mean)\n",
    "\n",
    "alpha = 0.05  # significance level\n",
    "\n",
    "if p_value < alpha:\n",
    "    print(\"The mean weight significantly differs from 10 grams.\")\n",
    "else:\n",
    "    print(\"The mean weight does not significantly differ from 10 grams.\")\n"
   ]
  },
  {
   "cell_type": "markdown",
   "id": "9c6b5d3e",
   "metadata": {},
   "source": [
    "12. Scenario: A company wants to analyze the click-through rates of two different website designs. The number of clicks for each design is as follows:\n",
    "\n",
    "    Design A: [100, 120, 110, 90, 95]\n",
    "    \n",
    "    Design B: [80, 85, 90, 95, 100]\n",
    "    \n",
    "    Perform a chi-square test to determine if there is a significant difference in the click-through rates between the two designs.\n"
   ]
  },
  {
   "cell_type": "code",
   "execution_count": 33,
   "id": "39b8458e",
   "metadata": {},
   "outputs": [
    {
     "name": "stdout",
     "output_type": "stream",
     "text": [
      "There is no significant difference in the click-through rates between Design A and Design B.\n"
     ]
    }
   ],
   "source": [
    "import numpy as np\n",
    "from scipy.stats import chi2_contingency\n",
    "\n",
    "design_a = [100, 120, 110, 90, 95]\n",
    "design_b = [80, 85, 90, 95, 100]\n",
    "\n",
    "observed = np.array([design_a, design_b])\n",
    "\n",
    "chi2, p_value, _, _ = chi2_contingency(observed)\n",
    "\n",
    "alpha = 0.05  # significance level\n",
    "\n",
    "if p_value < alpha:\n",
    "    print(\"There is a significant difference in the click-through rates between Design A and Design B.\")\n",
    "else:\n",
    "    print(\"There is no significant difference in the click-through rates between Design A and Design B.\")\n"
   ]
  },
  {
   "cell_type": "markdown",
   "id": "1ea8a382",
   "metadata": {},
   "source": [
    "13. Scenario: A survey is conducted to measure customer satisfaction with a product on a scale of 1 to 10. The data collected is as follows:\n",
    "\n",
    "    [7, 9, 6, 8, 10, 7, 8, 9, 7, 8]\n",
    "    \n",
    "    Calculate the 95% confidence interval for the population mean satisfaction score.\n"
   ]
  },
  {
   "cell_type": "code",
   "execution_count": 34,
   "id": "0859adb3",
   "metadata": {},
   "outputs": [
    {
     "name": "stdout",
     "output_type": "stream",
     "text": [
      "The 95% confidence interval for the population mean satisfaction score is: (7.043561120599888, 8.756438879400113)\n"
     ]
    }
   ],
   "source": [
    "import numpy as np\n",
    "import scipy.stats as stats\n",
    "\n",
    "satisfaction_scores = [7, 9, 6, 8, 10, 7, 8, 9, 7, 8]\n",
    "\n",
    "confidence_level = 0.95  # 95% confidence level\n",
    "degrees_of_freedom = len(satisfaction_scores) - 1\n",
    "sample_mean = np.mean(satisfaction_scores)\n",
    "sample_std = np.std(satisfaction_scores, ddof=1)  # ddof=1 for sample standard deviation\n",
    "\n",
    "margin_of_error = stats.t.ppf((1 + confidence_level) / 2, degrees_of_freedom) * (sample_std / np.sqrt(len(satisfaction_scores)))\n",
    "confidence_interval = (sample_mean - margin_of_error, sample_mean + margin_of_error)\n",
    "\n",
    "print(\"The 95% confidence interval for the population mean satisfaction score is:\", confidence_interval)\n"
   ]
  },
  {
   "cell_type": "markdown",
   "id": "d8065cc9",
   "metadata": {},
   "source": [
    "14. Scenario: A company wants to analyze the effect of temperature on product performance. The data collected is as follows:\n",
    "\n",
    "    Temperature (in degrees Celsius): [20, 22, 23, 19, 21]\n",
    "    \n",
    "    Performance (on a scale of 1 to 10): [8, 7, 9, 6, 8]\n",
    "\n",
    "    Perform a simple linear regression to predict performance based on temperature."
   ]
  },
  {
   "cell_type": "code",
   "execution_count": 36,
   "id": "7dd6fb69",
   "metadata": {},
   "outputs": [
    {
     "name": "stdout",
     "output_type": "stream",
     "text": [
      "R-squared: 0.4807692307692307\n",
      "Mean Squared Error (MSE): 0.5399999999999999\n",
      "Slope: 0.4999999999999999\n",
      "Intercept: -2.8999999999999986\n"
     ]
    }
   ],
   "source": [
    "import numpy as np\n",
    "from sklearn.linear_model import LinearRegression\n",
    "from sklearn.metrics import r2_score, mean_squared_error\n",
    "\n",
    "temperature = np.array([20, 22, 23, 19, 21]).reshape(-1, 1)\n",
    "performance = np.array([8, 7, 9, 6, 8])\n",
    "\n",
    "model = LinearRegression()\n",
    "model.fit(temperature, performance)\n",
    "\n",
    "# Make predictions\n",
    "predictions = model.predict(temperature)\n",
    "\n",
    "# Calculate R-squared\n",
    "r2 = r2_score(performance, predictions)\n",
    "\n",
    "# Calculate mean squared error (MSE)\n",
    "mse = mean_squared_error(performance, predictions)\n",
    "\n",
    "print(\"R-squared:\", r2)\n",
    "print(\"Mean Squared Error (MSE):\", mse)\n",
    "\n",
    "# Get the coefficient and intercept of the regression line\n",
    "slope = model.coef_[0]\n",
    "intercept = model.intercept_\n",
    "\n",
    "# Print the slope and intercept\n",
    "print(\"Slope:\", slope)\n",
    "print(\"Intercept:\", intercept)"
   ]
  },
  {
   "cell_type": "markdown",
   "id": "84f0a85a",
   "metadata": {},
   "source": [
    "15. Scenario: A study is conducted to compare the preferences of two groups of participants. The preferences are measured on a Likert scale from 1 to 5. The data collected is as follows:\n",
    "\n",
    "    Group A: [4, 3, 5, 2, 4]\n",
    "    Group B: [3, 2, 4, 3, 3]\n",
    "    \n",
    "    Perform a Mann-Whitney U test to determine if there is a significant difference in the median preferences between the two groups.\n"
   ]
  },
  {
   "cell_type": "code",
   "execution_count": 37,
   "id": "4380b9e8",
   "metadata": {},
   "outputs": [
    {
     "name": "stdout",
     "output_type": "stream",
     "text": [
      "There is no significant difference in the median preferences between Group A and Group B.\n"
     ]
    }
   ],
   "source": [
    "import scipy.stats as stats\n",
    "\n",
    "group_a = [4, 3, 5, 2, 4]\n",
    "group_b = [3, 2, 4, 3, 3]\n",
    "\n",
    "statistic, p_value = stats.mannwhitneyu(group_a, group_b, alternative='two-sided')\n",
    "\n",
    "alpha = 0.05  # significance level\n",
    "\n",
    "if p_value < alpha:\n",
    "    print(\"There is a significant difference in the median preferences between Group A and Group B.\")\n",
    "else:\n",
    "    print(\"There is no significant difference in the median preferences between Group A and Group B.\")\n"
   ]
  },
  {
   "cell_type": "markdown",
   "id": "8b113fd0",
   "metadata": {},
   "source": [
    "16. Scenario: A company wants to analyze the distribution of customer ages. The data collected is as follows:\n",
    "\n",
    "    [25, 30, 35, 40, 45, 50, 55, 60, 65, 70]\n",
    "    \n",
    "    Calculate the interquartile range (IQR) of the ages.\n"
   ]
  },
  {
   "cell_type": "code",
   "execution_count": 38,
   "id": "a3ee53dd",
   "metadata": {},
   "outputs": [
    {
     "name": "stdout",
     "output_type": "stream",
     "text": [
      "The interquartile range (IQR) of the ages is: 22.5\n"
     ]
    }
   ],
   "source": [
    "import numpy as np\n",
    "\n",
    "ages = [25, 30, 35, 40, 45, 50, 55, 60, 65, 70]\n",
    "\n",
    "first_quartile = np.percentile(ages, 25)\n",
    "third_quartile = np.percentile(ages, 75)\n",
    "\n",
    "iqr = third_quartile - first_quartile\n",
    "\n",
    "print(\"The interquartile range (IQR) of the ages is:\", iqr)\n"
   ]
  },
  {
   "cell_type": "markdown",
   "id": "ac769ea0",
   "metadata": {},
   "source": [
    "17. Scenario: A study is conducted to compare the performance of three different machine learning algorithms. The accuracy scores for each algorithm are as follows:\n",
    "\n",
    "    Algorithm A: [0.85, 0.80, 0.82, 0.87, 0.83]\n",
    "    \n",
    "    Algorithm B: [0.78, 0.82, 0.84, 0.80, 0.79]\n",
    "    \n",
    "    Algorithm C: [0.90, 0.88, 0.89, 0.86, 0.87]\n",
    "    \n",
    "    Perform a Kruskal-Wallis test to determine if there is a significant difference in the median accuracy scores between the algorithms.\n"
   ]
  },
  {
   "cell_type": "code",
   "execution_count": 39,
   "id": "09c19c99",
   "metadata": {},
   "outputs": [
    {
     "name": "stdout",
     "output_type": "stream",
     "text": [
      "There is a significant difference in the median accuracy scores between the algorithms.\n"
     ]
    }
   ],
   "source": [
    "import scipy.stats as stats\n",
    "\n",
    "algorithm_a = [0.85, 0.80, 0.82, 0.87, 0.83]\n",
    "algorithm_b = [0.78, 0.82, 0.84, 0.80, 0.79]\n",
    "algorithm_c = [0.90, 0.88, 0.89, 0.86, 0.87]\n",
    "\n",
    "statistic, p_value = stats.kruskal(algorithm_a, algorithm_b, algorithm_c)\n",
    "\n",
    "alpha = 0.05  # significance level\n",
    "\n",
    "if p_value < alpha:\n",
    "    print(\"There is a significant difference in the median accuracy scores between the algorithms.\")\n",
    "else:\n",
    "    print(\"There is no significant difference in the median accuracy scores between the algorithms.\")\n"
   ]
  },
  {
   "cell_type": "markdown",
   "id": "c1847b10",
   "metadata": {},
   "source": [
    "18. Scenario: A company wants to analyze the effect of price on sales. The data collected is as follows:\n",
    "\n",
    "    Price (in dollars): [10, 15, 12, 8, 14]\n",
    "    \n",
    "    Sales: [100, 80, 90, 110, 95]\n",
    "    \n",
    "    Perform a simple linear regression to predict sales based on price.\n"
   ]
  },
  {
   "cell_type": "code",
   "execution_count": 40,
   "id": "3f594634",
   "metadata": {},
   "outputs": [
    {
     "name": "stdout",
     "output_type": "stream",
     "text": [
      "R-squared: 0.8064024390243905\n",
      "Mean Squared Error (MSE): 19.35975609756095\n",
      "Slope: -3.506097560975611\n",
      "Intercept: 136.3719512195122\n"
     ]
    }
   ],
   "source": [
    "import numpy as np\n",
    "from sklearn.linear_model import LinearRegression\n",
    "from sklearn.metrics import r2_score, mean_squared_error\n",
    "\n",
    "price = np.array([10, 15, 12, 8, 14]).reshape(-1, 1)\n",
    "sales = np.array([100, 80, 90, 110, 95])\n",
    "\n",
    "model = LinearRegression()\n",
    "model.fit(price, sales)\n",
    "\n",
    "# Make predictions\n",
    "predictions = model.predict(price)\n",
    "\n",
    "# Calculate R-squared\n",
    "r2 = r2_score(sales, predictions)\n",
    "\n",
    "# Calculate mean squared error (MSE)\n",
    "mse = mean_squared_error(sales, predictions)\n",
    "\n",
    "print(\"R-squared:\", r2)\n",
    "print(\"Mean Squared Error (MSE):\", mse)\n",
    "\n",
    "# Get the coefficient and intercept of the regression line\n",
    "slope = model.coef_[0]\n",
    "intercept = model.intercept_\n",
    "\n",
    "# Print the slope and intercept\n",
    "print(\"Slope:\", slope)\n",
    "print(\"Intercept:\", intercept)"
   ]
  },
  {
   "cell_type": "markdown",
   "id": "c43bee81",
   "metadata": {},
   "source": [
    "19. Scenario: A survey is conducted to measure the satisfaction levels of customers with a new product. The data collected is as follows:\n",
    "\n",
    "    [7, 8, 9, 6, 8, 7, 9, 7, 8, 7]\n",
    "    \n",
    "    Calculate the standard error of the mean satisfaction score.\n",
    "\n"
   ]
  },
  {
   "cell_type": "code",
   "execution_count": 41,
   "id": "1c15821d",
   "metadata": {},
   "outputs": [
    {
     "name": "stdout",
     "output_type": "stream",
     "text": [
      "The standard error of the mean satisfaction score is: 0.30550504633038933\n"
     ]
    }
   ],
   "source": [
    "import numpy as np\n",
    "\n",
    "satisfaction_scores = [7, 8, 9, 6, 8, 7, 9, 7, 8, 7]\n",
    "\n",
    "sample_mean = np.mean(satisfaction_scores)\n",
    "sample_size = len(satisfaction_scores)\n",
    "\n",
    "standard_error = np.std(satisfaction_scores, ddof=1) / np.sqrt(sample_size)\n",
    "\n",
    "print(\"The standard error of the mean satisfaction score is:\", standard_error)\n"
   ]
  },
  {
   "cell_type": "markdown",
   "id": "cbbab837",
   "metadata": {},
   "source": [
    "20. Scenario: A company wants to analyze the relationship between advertising expenditure and sales. The data collected is as follows:\n",
    "\n",
    "    Advertising Expenditure (in thousands): [10, 15, 12, 8, 14]\n",
    "    \n",
    "    Sales (in thousands): [25, 30, 28, 20, 26]\n",
    "    \n",
    "    Perform a multiple regression analysis to predict sales based on advertising expenditure.\n",
    "\n"
   ]
  },
  {
   "cell_type": "code",
   "execution_count": 42,
   "id": "bb38e0a6",
   "metadata": {},
   "outputs": [
    {
     "name": "stdout",
     "output_type": "stream",
     "text": [
      "                            OLS Regression Results                            \n",
      "==============================================================================\n",
      "Dep. Variable:                      y   R-squared:                       0.767\n",
      "Model:                            OLS   Adj. R-squared:                  0.689\n",
      "Method:                 Least Squares   F-statistic:                     9.872\n",
      "Date:                Fri, 14 Jul 2023   Prob (F-statistic):             0.0516\n",
      "Time:                        02:44:48   Log-Likelihood:                -9.5288\n",
      "No. Observations:                   5   AIC:                             23.06\n",
      "Df Residuals:                       3   BIC:                             22.28\n",
      "Df Model:                           1                                         \n",
      "Covariance Type:            nonrobust                                         \n",
      "==============================================================================\n",
      "                 coef    std err          t      P>|t|      [0.025      0.975]\n",
      "------------------------------------------------------------------------------\n",
      "const         12.2012      4.429      2.755      0.070      -1.893      26.296\n",
      "x1             1.1524      0.367      3.142      0.052      -0.015       2.320\n",
      "==============================================================================\n",
      "Omnibus:                          nan   Durbin-Watson:                   1.136\n",
      "Prob(Omnibus):                    nan   Jarque-Bera (JB):                0.546\n",
      "Skew:                          -0.267   Prob(JB):                        0.761\n",
      "Kurtosis:                       1.471   Cond. No.                         57.3\n",
      "==============================================================================\n",
      "\n",
      "Notes:\n",
      "[1] Standard Errors assume that the covariance matrix of the errors is correctly specified.\n"
     ]
    },
    {
     "name": "stderr",
     "output_type": "stream",
     "text": [
      "C:\\Users\\deepa\\anaconda3\\lib\\site-packages\\statsmodels\\stats\\stattools.py:74: ValueWarning: omni_normtest is not valid with less than 8 observations; 5 samples were given.\n",
      "  warn(\"omni_normtest is not valid with less than 8 observations; %i \"\n"
     ]
    }
   ],
   "source": [
    "import numpy as np\n",
    "import statsmodels.api as sm\n",
    "\n",
    "advertising_expenditure = np.array([10, 15, 12, 8, 14])\n",
    "sales = np.array([25, 30, 28, 20, 26])\n",
    "\n",
    "# Add a constant term to the independent variable (advertising expenditure)\n",
    "x = sm.add_constant(advertising_expenditure)\n",
    "\n",
    "# Fit the multiple regression model\n",
    "model = sm.OLS(sales, x)\n",
    "results = model.fit()\n",
    "\n",
    "# Print the model summary\n",
    "print(results.summary())\n"
   ]
  },
  {
   "cell_type": "code",
   "execution_count": null,
   "id": "3c487226",
   "metadata": {},
   "outputs": [],
   "source": []
  }
 ],
 "metadata": {
  "kernelspec": {
   "display_name": "Python 3 (ipykernel)",
   "language": "python",
   "name": "python3"
  },
  "language_info": {
   "codemirror_mode": {
    "name": "ipython",
    "version": 3
   },
   "file_extension": ".py",
   "mimetype": "text/x-python",
   "name": "python",
   "nbconvert_exporter": "python",
   "pygments_lexer": "ipython3",
   "version": "3.9.7"
  }
 },
 "nbformat": 4,
 "nbformat_minor": 5
}
