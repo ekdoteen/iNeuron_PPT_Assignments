{
 "cells": [
  {
   "cell_type": "markdown",
   "id": "9d8acf18",
   "metadata": {},
   "source": [
    "# Assignment 1"
   ]
  },
  {
   "cell_type": "markdown",
   "id": "c4b3a3f4",
   "metadata": {},
   "source": [
    "Q1. Given an array of integers nums and an integer target, return indices of the two numbers such that they add up to target.\n",
    "\n",
    "You may assume that each input would have exactly one solution, and you may not use the same element twice.\n",
    "\n",
    "You can return the answer in any order.\n",
    "\n",
    "**Example:**\n",
    "Input: nums = [2,7,11,15], target = 9\n",
    "Output0 [0,1]\n",
    "\n",
    "**Explanation:** Because nums[0] + nums[1] == 9, we return [0, 1]"
   ]
  },
  {
   "cell_type": "markdown",
   "id": "e56ea6fc",
   "metadata": {},
   "source": [
    "Algorithm:\n",
    "\n",
    "We start by initializing an empty hashmap to store the elements of the array and their indices.\n",
    "\n",
    "We iterate through the array nums using a for loop and enumerate to get both the index and the element at each iteration.\n",
    "\n",
    "For each element num at index i, we calculate the difference diff between the target and the current element: diff = target - num.\n",
    "\n",
    "We check if the difference diff exists in the hashmap. If it does, it means we have found a pair of numbers that add up to the target. We can return the indices of the two numbers: [hashmap[diff], i].\n",
    "\n",
    "If the difference diff does not exist in the hashmap, we add the current element num to the hashmap with its index i as the value. This allows us to store the element and its corresponding index for future reference.\n",
    "\n",
    "If we have iterated through the entire array and haven't found a solution, we return an empty list.\n",
    "\n",
    "In the given example, let's go through the steps:\n",
    "\n",
    "Input: nums = [2, 7, 11, 15], target = 9\n",
    "We initialize an empty hashmap: hashmap = {}.\n",
    "\n",
    "We start iterating through the array nums:\n",
    "\n",
    "At index 0, the element is 2. We calculate the difference: diff = 9 - 2 = 7. Since 7 is not in the hashmap, we add 2 to the hashmap with its index 0: {2: 0}.\n",
    "\n",
    "At index 1, the element is 7. We calculate the difference: diff = 9 - 7 = 2. This difference exists in the hashmap, and its corresponding index is 0. So, we have found the pair [0, 1] that adds up to the target 9. We return [0, 1] as the result.\n",
    "\n",
    "Time Complexity:\n",
    "\n",
    "The algorithm iterates through the array once, performing constant time operations at each iteration. Therefore, the time complexity is O(n), where n is the number of elements in the array nums.\n",
    "\n",
    "Space Complexity:\n",
    "\n",
    "The space complexity is determined by the space used to store the hashmap. The hashmap can store at most n elements. Therefore, the space complexity is O(n)."
   ]
  },
  {
   "cell_type": "code",
   "execution_count": 1,
   "id": "80d92984",
   "metadata": {},
   "outputs": [
    {
     "name": "stdout",
     "output_type": "stream",
     "text": [
      "[0, 2]\n"
     ]
    }
   ],
   "source": [
    "def twoSum(nums, target):\n",
    "    # Create a hashmap to store the elements and their indices\n",
    "    hashmap = {}\n",
    "\n",
    "    # Iterate through the array\n",
    "    for i, num in enumerate(nums):\n",
    "        # Calculate the difference between the target and the current element\n",
    "        diff = target - num\n",
    "\n",
    "        # Check if the difference exists in the hashmap\n",
    "        if diff in hashmap:\n",
    "            # Return the indices of the two numbers\n",
    "            return [hashmap[diff], i]\n",
    "\n",
    "        # Add the current element to the hashmap\n",
    "        hashmap[num] = i\n",
    "\n",
    "    # If no solution is found, return an empty list\n",
    "    return []\n",
    "\n",
    "# Example usage\n",
    "nums = [2,5,7,9]\n",
    "target = 9\n",
    "result = twoSum(nums, target)\n",
    "print(result)\n"
   ]
  },
  {
   "cell_type": "markdown",
   "id": "5a40616e",
   "metadata": {},
   "source": [
    "<aside>\n",
    "💡 **Q2.** Given an integer array nums and an integer val, remove all occurrences of val in nums in-place. The order of the elements may be changed. Then return the number of elements in nums which are not equal to val.\n",
    "\n",
    "Consider the number of elements in nums which are not equal to val be k, to get accepted, you need to do the following things:\n",
    "\n",
    "- Change the array nums such that the first k elements of nums contain the elements which are not equal to val. The remaining elements of nums are not important as well as the size of nums.\n",
    "- Return k.\n",
    "\n",
    "**Example :**\n",
    "Input: nums = [3,2,2,3], val = 3\n",
    "Output: 2, nums = [2,2,_*,_*]\n",
    "\n",
    "**Explanation:** Your function should return k = 2, with the first two elements of nums being 2. It does not matter what you leave beyond the returned k (hence they are underscores)\n",
    "\n",
    "</aside>"
   ]
  },
  {
   "cell_type": "markdown",
   "id": "23d3e2cc",
   "metadata": {},
   "source": [
    "Algorithm:\n",
    "\n",
    "Initialize two pointers, i and k, to 0. The pointer i will be used to iterate through the array, and k will keep track of the current position for placing non-val elements.\n",
    "\n",
    "Iterate through the array using a loop with i starting from 0 until the end of the array:\n",
    "\n",
    "If the element at index i is not equal to val, assign nums[k] = nums[i] to place the non-val element at index k and increment k by 1.\n",
    "Continue to the next iteration.\n",
    "After the loop ends, k will be equal to the number of elements in nums that are not equal to val.\n",
    "\n",
    "Return k as the result."
   ]
  },
  {
   "cell_type": "code",
   "execution_count": 2,
   "id": "40e9e9c9",
   "metadata": {},
   "outputs": [
    {
     "name": "stdout",
     "output_type": "stream",
     "text": [
      "k = 2\n",
      "nums = [2, 2]\n"
     ]
    }
   ],
   "source": [
    "def removeElement(nums, val):\n",
    "    k = 0  # Pointer to track non-val elements\n",
    "\n",
    "    for i in range(len(nums)):\n",
    "        if nums[i] != val:\n",
    "            nums[k] = nums[i]\n",
    "            k += 1\n",
    "\n",
    "    return k\n",
    "\n",
    "# Example usage\n",
    "nums = [3, 2, 2, 3]\n",
    "val = 3\n",
    "k = removeElement(nums, val)\n",
    "print(\"k =\", k)\n",
    "print(\"nums =\", nums[:k])"
   ]
  },
  {
   "cell_type": "markdown",
   "id": "ef2f6884",
   "metadata": {},
   "source": [
    "**Q3.** Given a sorted array of distinct integers and a target value, return the index if the target is found. If not, return the index where it would be if it were inserted in order.\n",
    "\n",
    "You must write an algorithm with O(log n) runtime complexity.\n",
    "\n",
    "**Example 1:**\n",
    "Input: nums = [1,3,5,6], target = 5\n",
    "\n",
    "Output: 2\n"
   ]
  },
  {
   "cell_type": "markdown",
   "id": "8a93d25f",
   "metadata": {},
   "source": [
    "To solve this problem with a runtime complexity of O(log n), we can use the Binary Search algorithm. Since the given array is already sorted, we can take advantage of its sorted nature to efficiently search for the target value.\n",
    "\n",
    "Here's how the algorithm works:\n",
    "\n",
    "Initialize two pointers, left and right, pointing to the start and end of the array respectively. These pointers represent the range of elements that we need to search.\n",
    "\n",
    "Perform binary search iterations while left <= right:\n",
    "\n",
    "Calculate the middle index as mid = (left + right) // 2.\n",
    "\n",
    "Compare the middle element, nums[mid], with the target:\n",
    "\n",
    "If nums[mid] is equal to the target, return mid as the index where the target is found.\n",
    "\n",
    "If nums[mid] is greater than the target, update right = mid - 1 to search in the left half of the array.\n",
    "\n",
    "If nums[mid] is less than the target, update left = mid + 1 to search in the right half of the array.\n",
    "\n",
    "If the binary search loop terminates without finding the target, it means the target is not present in the array. In this case, return the value of left as the index where the target would be inserted."
   ]
  },
  {
   "cell_type": "code",
   "execution_count": 3,
   "id": "d3f68acc",
   "metadata": {},
   "outputs": [
    {
     "name": "stdout",
     "output_type": "stream",
     "text": [
      "2\n"
     ]
    }
   ],
   "source": [
    "def searchInsert(nums, target):\n",
    "    left = 0\n",
    "    right = len(nums) - 1\n",
    "\n",
    "    while left <= right:\n",
    "        mid = (left + right) // 2\n",
    "\n",
    "        if nums[mid] == target:\n",
    "            return mid\n",
    "        elif nums[mid] < target:\n",
    "            left = mid + 1\n",
    "        else:\n",
    "            right = mid - 1\n",
    "\n",
    "    return left\n",
    "\n",
    "# Example usage\n",
    "nums = [1, 3, 5, 6]\n",
    "target = 5\n",
    "index = searchInsert(nums, target)\n",
    "print(index)\n"
   ]
  },
  {
   "cell_type": "markdown",
   "id": "ea098200",
   "metadata": {},
   "source": [
    "**Q4.** You are given a large integer represented as an integer array digits, where each digits[i] is the ith digit of the integer. The digits are ordered from most significant to least significant in left-to-right order. The large integer does not contain any leading 0's.\n",
    "\n",
    "Increment the large integer by one and return the resulting array of digits.\n",
    "\n",
    "**Example 1:**\n",
    "Input: digits = [1,2,3]\n",
    "Output: [1,2,4]\n",
    "\n",
    "**Explanation:** The array represents the integer 123.\n",
    "\n",
    "Incrementing by one gives 123 + 1 = 124.\n",
    "Thus, the result should be [1,2,4]."
   ]
  },
  {
   "cell_type": "markdown",
   "id": "6cdcf256",
   "metadata": {},
   "source": [
    "we can apply the concept of addition with carry. We start from the least significant digit (rightmost) and increment it by one. If the resulting digit is less than 10, we simply update it and return the updated array. Otherwise, if the resulting digit is 10, we set it to 0 and move to the next more significant digit, repeating the process until we either encounter a digit that is less than 10 or reach the most significant digit.\n",
    "\n",
    "Here's how the algorithm works:\n",
    "\n",
    "Initialize a carry variable to 1, indicating that we will increment the least significant digit by one.\n",
    "\n",
    "Iterate through the digits array from right to left (from the least significant digit to the most significant digit):\n",
    "\n",
    "Add the carry to the current digit.\n",
    "If the resulting digit is less than 10, update it in the array and return the updated array.\n",
    "\n",
    "If the resulting digit is 10, set it to 0 and continue to the next more significant digit.\n",
    "\n",
    "If we have reached this point, it means the most significant digit needs to be incremented by one. Insert 1 at the beginning of the array to represent the carry.\n",
    "\n",
    "Return the updated array."
   ]
  },
  {
   "cell_type": "code",
   "execution_count": 4,
   "id": "a50f7778",
   "metadata": {},
   "outputs": [
    {
     "name": "stdout",
     "output_type": "stream",
     "text": [
      "[1, 2, 4]\n"
     ]
    }
   ],
   "source": [
    "def plusOne(digits):\n",
    "    carry = 1  # Initialize carry as 1\n",
    "\n",
    "    for i in range(len(digits) - 1, -1, -1):\n",
    "        digits[i] += carry\n",
    "\n",
    "        if digits[i] < 10:\n",
    "            return digits\n",
    "\n",
    "        digits[i] = 0\n",
    "\n",
    "    digits.insert(0, 1)  # Insert carry at the beginning\n",
    "    return digits\n",
    "\n",
    "# Example usage\n",
    "digits = [1, 2, 3]\n",
    "result = plusOne(digits)\n",
    "print(result)\n"
   ]
  },
  {
   "cell_type": "markdown",
   "id": "d0c21338",
   "metadata": {},
   "source": [
    "<aside>\n",
    "💡 **Q5.** You are given two integer arrays nums1 and nums2, sorted in non-decreasing order, and two integers m and n, representing the number of elements in nums1 and nums2 respectively.\n",
    "\n",
    "Merge nums1 and nums2 into a single array sorted in non-decreasing order.\n",
    "\n",
    "The final sorted array should not be returned by the function, but instead be stored inside the array nums1. To accommodate this, nums1 has a length of m + n, where the first m elements denote the elements that should be merged, and the last n elements are set to 0 and should be ignored. nums2 has a length of n.\n",
    "\n",
    "**Example 1:**\n",
    "Input: nums1 = [1,2,3,0,0,0], m = 3, nums2 = [2,5,6], n = 3\n",
    "Output: [1,2,2,3,5,6]\n",
    "\n",
    "**Explanation:** The arrays we are merging are [1,2,3] and [2,5,6].\n",
    "The result of the merge is [1,2,2,3,5,6] with the underlined elements coming from nums1.\n",
    "\n",
    "</aside>"
   ]
  },
  {
   "cell_type": "markdown",
   "id": "2b920093",
   "metadata": {},
   "source": [
    "We can use the Merge Sort algorithm. Since both nums1 and nums2 are already sorted, we can merge them into a single sorted array efficiently.\n",
    "\n",
    "Here's how the algorithm works:\n",
    "\n",
    "Initialize three pointers, p1, p2, and p:\n",
    "\n",
    "p1 points to the last non-zero element in nums1.\n",
    "\n",
    "p2 points to the last element in nums2.\n",
    "\n",
    "p points to the last position in nums1 where elements will be merged.\n",
    "\n",
    "While p1 >= 0 and p2 >= 0, do the following:\n",
    "\n",
    "Compare nums1[p1] and nums2[p2].\n",
    "\n",
    "If nums1[p1] is greater than or equal to nums2[p2], set nums1[p] to nums1[p1] and decrement p1 and p by 1.\n",
    "\n",
    "If nums1[p1] is less than nums2[p2], set nums1[p] to nums2[p2] and decrement p2 and p by 1.\n",
    "\n",
    "If there are remaining elements in nums2 (i.e., p2 >= 0), copy them to nums1 starting from index 0 up to p2 + 1."
   ]
  },
  {
   "cell_type": "code",
   "execution_count": 5,
   "id": "aa766788",
   "metadata": {},
   "outputs": [
    {
     "name": "stdout",
     "output_type": "stream",
     "text": [
      "[1, 2, 2, 3, 5, 6]\n"
     ]
    }
   ],
   "source": [
    "def merge(nums1, m, nums2, n):\n",
    "    p1 = m - 1\n",
    "    p2 = n - 1\n",
    "    p = m + n - 1\n",
    "\n",
    "    while p1 >= 0 and p2 >= 0:\n",
    "        if nums1[p1] >= nums2[p2]:\n",
    "            nums1[p] = nums1[p1]\n",
    "            p1 -= 1\n",
    "        else:\n",
    "            nums1[p] = nums2[p2]\n",
    "            p2 -= 1\n",
    "        p -= 1\n",
    "\n",
    "    # Copy remaining elements from nums2 to nums1\n",
    "    nums1[:p2 + 1] = nums2[:p2 + 1]\n",
    "\n",
    "# Example usage\n",
    "nums1 = [1, 2, 3, 0, 0, 0]\n",
    "m = 3\n",
    "nums2 = [2, 5, 6]\n",
    "n = 3\n",
    "merge(nums1, m, nums2, n)\n",
    "print(nums1)\n"
   ]
  },
  {
   "cell_type": "markdown",
   "id": "e0f490f2",
   "metadata": {},
   "source": [
    "<aside>\n",
    "💡 Q6. Given an integer array nums, return true if any value appears at least twice in the array, and return false if every element is distinct.\n",
    "\n",
    "**Example 1:**\n",
    "Input: nums = [1,2,3,1]\n",
    "\n",
    "Output: true\n",
    "\n",
    "</aside>"
   ]
  },
  {
   "cell_type": "markdown",
   "id": "7016b12f",
   "metadata": {},
   "source": [
    "we can use a set data structure to keep track of the unique elements we encounter while iterating through the array. If we encounter an element that is already present in the set, it means that the element appears at least twice in the array.\n",
    "\n",
    "Here's how the algorithm works:\n",
    "\n",
    "Initialize an empty set.\n",
    "\n",
    "Iterate through the elements of the array nums:\n",
    "\n",
    "If the current element is already in the set, return True as we have found a duplicate.\n",
    "\n",
    "If the current element is not in the set, add it to the set.\n",
    "\n",
    "After the loop ends, it means that every element in the array is distinct, so we return False."
   ]
  },
  {
   "cell_type": "code",
   "execution_count": 6,
   "id": "ce594c7e",
   "metadata": {},
   "outputs": [
    {
     "name": "stdout",
     "output_type": "stream",
     "text": [
      "True\n"
     ]
    }
   ],
   "source": [
    "def containsDuplicate(nums):\n",
    "    num_set = set()\n",
    "\n",
    "    for num in nums:\n",
    "        if num in num_set:\n",
    "            return True\n",
    "        num_set.add(num)\n",
    "\n",
    "    return False\n",
    "\n",
    "# Example usage\n",
    "nums = [1, 2, 3, 1]\n",
    "result = containsDuplicate(nums)\n",
    "print(result)\n"
   ]
  },
  {
   "cell_type": "markdown",
   "id": "2985d63e",
   "metadata": {},
   "source": [
    "<aside>\n",
    "💡 **Q7.** Given an integer array nums, move all 0's to the end of it while maintaining the relative order of the nonzero elements.\n",
    "\n",
    "Note that you must do this in-place without making a copy of the array.\n",
    "\n",
    "**Example 1:**\n",
    "Input: nums = [0,1,0,3,12]\n",
    "Output: [1,3,12,0,0]\n",
    "\n",
    "</aside>"
   ]
  },
  {
   "cell_type": "markdown",
   "id": "d7d8876f",
   "metadata": {},
   "source": [
    "We can use the Two Pointers technique. We'll maintain two pointers, left and right, to keep track of the positions for placing non-zero elements and zeros, respectively.\n",
    "\n",
    "Here's how the algorithm works:\n",
    "\n",
    "Initialize two pointers, left and right, to 0. The pointer left will be used to iterate through the array and place non-zero elements, while the pointer right will be used to track the position where zeros should be placed.\n",
    "\n",
    "Iterate through the array using a loop with left starting from 0 until the end of the array:\n",
    "\n",
    "If the element at index left is not equal to 0, assign nums[right] = nums[left] to place the non-zero element at index right and increment right by 1.\n",
    "\n",
    "Continue to the next iteration.\n",
    "\n",
    "After the loop ends, all non-zero elements have been placed at the beginning of the array, and right points to the position where zeros should start.\n",
    "\n",
    "Fill the remaining positions in the array starting from right with zeros."
   ]
  },
  {
   "cell_type": "code",
   "execution_count": 7,
   "id": "40a8a352",
   "metadata": {},
   "outputs": [
    {
     "name": "stdout",
     "output_type": "stream",
     "text": [
      "[1, 3, 12, 0, 0]\n"
     ]
    }
   ],
   "source": [
    "def moveZeroes(nums):\n",
    "    left = 0  # Pointer to track non-zero elements\n",
    "\n",
    "    for i in range(len(nums)):\n",
    "        if nums[i] != 0:\n",
    "            nums[left] = nums[i]\n",
    "            left += 1\n",
    "\n",
    "    # Fill the remaining positions with zeros\n",
    "    while left < len(nums):\n",
    "        nums[left] = 0\n",
    "        left += 1\n",
    "\n",
    "# Example usage\n",
    "nums = [0, 1, 0, 3, 12]\n",
    "moveZeroes(nums)\n",
    "print(nums)\n"
   ]
  },
  {
   "cell_type": "markdown",
   "id": "5ffb3b32",
   "metadata": {},
   "source": [
    "<aside>\n",
    "💡 **Q8.** You have a set of integers s, which originally contains all the numbers from 1 to n. Unfortunately, due to some error, one of the numbers in s got duplicated to another number in the set, which results in repetition of one number and loss of another number.\n",
    "\n",
    "You are given an integer array nums representing the data status of this set after the error.\n",
    "\n",
    "Find the number that occurs twice and the number that is missing and return them in the form of an array.\n",
    "\n",
    "**Example 1:**\n",
    "Input: nums = [1,2,2,4]\n",
    "Output: [2,3]\n",
    "\n",
    "</aside>"
   ]
  },
  {
   "cell_type": "markdown",
   "id": "65b678dd",
   "metadata": {},
   "source": [
    "we can utilize the properties of sets to find the duplicate and missing numbers.\n",
    "\n",
    "Here's how the algorithm works:\n",
    "\n",
    "Initialize an empty set, numSet, to keep track of the unique numbers in the nums array.\n",
    "\n",
    "Initialize two variables, duplicate and missing, to keep track of the duplicate and missing numbers, respectively.\n",
    "\n",
    "Iterate through the elements of the nums array:\n",
    "\n",
    "If the current element is already in the numSet, it means we have found the duplicate number. Assign it to the duplicate variable.\n",
    "\n",
    "Add the current element to the numSet.\n",
    "\n",
    "Iterate from 1 to the length of the nums array + 1:\n",
    "\n",
    "If the current number is not in the numSet, it means we have found the missing number. Assign it to the missing variable.\n",
    "\n",
    "Return the [duplicate, missing] array."
   ]
  },
  {
   "cell_type": "code",
   "execution_count": 8,
   "id": "bc942778",
   "metadata": {},
   "outputs": [
    {
     "name": "stdout",
     "output_type": "stream",
     "text": [
      "[2, 3]\n"
     ]
    }
   ],
   "source": [
    "def findErrorNums(nums):\n",
    "    numSet = set()\n",
    "    duplicate = -1\n",
    "    missing = -1\n",
    "\n",
    "    for num in nums:\n",
    "        if num in numSet:\n",
    "            duplicate = num\n",
    "        numSet.add(num)\n",
    "\n",
    "    for i in range(1, len(nums) + 1):\n",
    "        if i not in numSet:\n",
    "            missing = i\n",
    "            break\n",
    "\n",
    "    return [duplicate, missing]\n",
    "\n",
    "# Example usage\n",
    "nums = [1, 2, 2, 4]\n",
    "result = findErrorNums(nums)\n",
    "print(result)\n"
   ]
  },
  {
   "cell_type": "code",
   "execution_count": null,
   "id": "83e4d937",
   "metadata": {},
   "outputs": [],
   "source": []
  }
 ],
 "metadata": {
  "kernelspec": {
   "display_name": "Python 3 (ipykernel)",
   "language": "python",
   "name": "python3"
  },
  "language_info": {
   "codemirror_mode": {
    "name": "ipython",
    "version": 3
   },
   "file_extension": ".py",
   "mimetype": "text/x-python",
   "name": "python",
   "nbconvert_exporter": "python",
   "pygments_lexer": "ipython3",
   "version": "3.9.7"
  }
 },
 "nbformat": 4,
 "nbformat_minor": 5
}
