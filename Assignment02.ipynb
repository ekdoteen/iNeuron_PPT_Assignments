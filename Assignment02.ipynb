{
 "cells": [
  {
   "cell_type": "markdown",
   "id": "9d551f88",
   "metadata": {},
   "source": [
    "<aside>\n",
    "💡 Given an integer array nums of 2n integers, group these integers into n pairs (a1, b1), (a2, b2),..., (an, bn) such that the sum of min(ai, bi) for all i is maximized. Return the maximized sum.\n",
    "\n",
    "**Example 1:**\n",
    "Input: nums = [1,4,3,2]\n",
    "Output: 4\n",
    "\n",
    "**Explanation:** All possible pairings (ignoring the ordering of elements) are:\n",
    "\n",
    "1. (1, 4), (2, 3) -> min(1, 4) + min(2, 3) = 1 + 2 = 3\n",
    "2. (1, 3), (2, 4) -> min(1, 3) + min(2, 4) = 1 + 2 = 3\n",
    "3. (1, 2), (3, 4) -> min(1, 2) + min(3, 4) = 1 + 3 = 4\n",
    "So the maximum possible sum is 4\n",
    "</aside>"
   ]
  },
  {
   "cell_type": "markdown",
   "id": "786f56a8",
   "metadata": {},
   "source": [
    "The first step is to sort the array nums in ascending order. This ensures that the two smallest elements are at the beginning of the array.\n",
    "\n",
    "The next step is to iterate over the array, starting from index 1. For each i, we want to find the pair (ai, bi) such that min(ai, bi) is maximized. The two smallest elements in nums[2i-1:2i+1] are the two elements at indices 2i-1 and 2i. Therefore, the sum of min(ai, bi) is maximized when ai and bi are these two elements.\n",
    "\n",
    "We can then update the sum variable by adding min(nums[2i-1], nums[2i]) to it. This will ensure that the sum variable contains the maximum sum for the first i pairs.\n",
    "\n",
    "After iterating over the entire array, we will have the maximum sum for all n pairs. We can then return this sum.\n",
    "\n",
    "Here is an explanation of the code:\n",
    "\n",
    "The nums.sort() line sorts the array nums in ascending order. The sum += min(nums[2 * i], nums[2 * i + 1]) line updates the sum variable by adding min(nums[2i-1], nums[2i]) to it. The return sum line returns the maximum sum.\n"
   ]
  },
  {
   "cell_type": "code",
   "execution_count": 2,
   "id": "2ea96d2c",
   "metadata": {},
   "outputs": [],
   "source": [
    "def max_pair_sum(nums):\n",
    "    \n",
    "    \"\"\"\n",
    "      Given an integer array nums of 2n integers, group these integers into n pairs (a1, b1), (a2, b2),..., (an, bn) such that the sum of min(ai, bi) for all i is maximized. Return the maximized sum.\n",
    "\n",
    "      Args:\n",
    "        nums: An integer array of 2n integers.\n",
    "\n",
    "      Returns:\n",
    "        The maximized sum.\n",
    "      \"\"\"\n",
    "\n",
    "    nums.sort()\n",
    "    sum = 0\n",
    "    for i in range(len(nums) // 2):\n",
    "        sum += min(nums[2 * i], nums[2 * i + 1])\n",
    "    return sum\n"
   ]
  },
  {
   "cell_type": "markdown",
   "id": "60da0c38",
   "metadata": {},
   "source": [
    "Space complexity: The algorithm uses only a constant amount of space, since it only needs to store the sum variable. Therefore, the space complexity is O(1).\n",
    "\n",
    "Time complexity: The algorithm sorts the array nums in ascending order, which takes O(nlogn) time. Then, the algorithm iterates over the array, which takes O(n) time. Therefore, the total time complexity is O(nlogn + n) = O(nlogn)."
   ]
  },
  {
   "cell_type": "markdown",
   "id": "9d4d91e0",
   "metadata": {},
   "source": [
    "Question 2\n",
    "Alice has n candies, where the ith candy is of type candyType[i]. Alice noticed that she started to gain weight, so she visited a doctor. \n",
    "\n",
    "The doctor advised Alice to only eat n / 2 of the candies she has (n is always even). Alice likes her candies very much, and she wants to eat the maximum number of different types of candies while still following the doctor's advice. \n",
    "\n",
    "Given the integer array candyType of length n, return the maximum number of different types of candies she can eat if she only eats n / 2 of them.\n",
    "\n",
    "Example 1:\n",
    "Input: candyType = [1,1,2,2,3,3]\n",
    "Output: 3\n",
    "\n",
    "Explanation: Alice can only eat 6 / 2 = 3 candies. Since there are only 3 types, she can eat one of each type."
   ]
  },
  {
   "cell_type": "code",
   "execution_count": 3,
   "id": "d833e39c",
   "metadata": {},
   "outputs": [
    {
     "name": "stdout",
     "output_type": "stream",
     "text": [
      "Maximum number of different types of candies: 3\n"
     ]
    }
   ],
   "source": [
    "def max_candies(candyType):\n",
    "    max_candies = len(candyType) // 2\n",
    "    unique_types = len(set(candyType))\n",
    "    return min(max_candies, unique_types)\n",
    "\n",
    "# Example usage:\n",
    "candyType = [1, 1, 2, 2, 3, 3]\n",
    "max_types = max_candies(candyType)\n",
    "print(\"Maximum number of different types of candies:\", max_types)\n",
    "\n"
   ]
  },
  {
   "cell_type": "markdown",
   "id": "20e63473",
   "metadata": {},
   "source": [
    "Question 3\n",
    "We define a harmonious array as an array where the difference between its maximum value\n",
    "and its minimum value is exactly 1.\n",
    "\n",
    "Given an integer array nums, return the length of its longest harmonious subsequence\n",
    "among all its possible subsequences.\n",
    "\n",
    "A subsequence of an array is a sequence that can be derived from the array by deleting some or no elements without changing the order of the remaining elements.\n",
    "\n",
    "Example 1:\n",
    "Input: nums = [1,3,2,2,5,2,3,7]\n",
    "Output: 5\n",
    "\n",
    "Explanation: The longest harmonious subsequence is [3,2,2,2,3]."
   ]
  },
  {
   "cell_type": "code",
   "execution_count": 4,
   "id": "fab3148d",
   "metadata": {},
   "outputs": [
    {
     "name": "stdout",
     "output_type": "stream",
     "text": [
      "Length of the longest harmonious subsequence: 5\n"
     ]
    }
   ],
   "source": [
    "def longest_harmonious_subsequence(nums):\n",
    "    freq_count = {}\n",
    "    for num in nums:\n",
    "        freq_count[num] = freq_count.get(num, 0) + 1\n",
    "\n",
    "    max_length = 0\n",
    "    for num in nums:\n",
    "        if num + 1 in freq_count:\n",
    "            length = freq_count[num] + freq_count[num + 1]\n",
    "            max_length = max(max_length, length)\n",
    "\n",
    "    return max_length\n",
    "\n",
    "# Example usage:\n",
    "nums = [1, 3, 2, 2, 5, 2, 3, 7]\n",
    "longest_subseq_length = longest_harmonious_subsequence(nums)\n",
    "print(\"Length of the longest harmonious subsequence:\", longest_subseq_length)\n",
    "\n"
   ]
  },
  {
   "cell_type": "markdown",
   "id": "6c09e0e9",
   "metadata": {},
   "source": [
    "Question 4\n",
    "You have a long flowerbed in which some of the plots are planted, and some are not.\n",
    "However, flowers cannot be planted in adjacent plots.\n",
    "Given an integer array flowerbed containing 0's and 1's, where 0 means empty and 1 means not empty, and an integer n, return true if n new flowers can be planted in the flowerbed without violating the no-adjacent-flowers rule and false otherwise.\n",
    "\n",
    "Example 1:\n",
    "Input: flowerbed = [1,0,0,0,1], n = 1\n",
    "Output: true\n"
   ]
  },
  {
   "cell_type": "code",
   "execution_count": 5,
   "id": "48d01883",
   "metadata": {},
   "outputs": [
    {
     "name": "stdout",
     "output_type": "stream",
     "text": [
      "Can plant 1 flowers: True\n"
     ]
    }
   ],
   "source": [
    "def can_place_flowers(flowerbed, n):\n",
    "    count = 0\n",
    "    size = len(flowerbed)\n",
    "\n",
    "    for i in range(size):\n",
    "        if (\n",
    "            flowerbed[i] == 0 and\n",
    "            (i == 0 or flowerbed[i - 1] == 0) and\n",
    "            (i == size - 1 or flowerbed[i + 1] == 0)\n",
    "        ):\n",
    "            flowerbed[i] = 1\n",
    "            count += 1\n",
    "\n",
    "        if count == n:\n",
    "            return True\n",
    "\n",
    "    return count == n\n",
    "\n",
    "# Example usage:\n",
    "flowerbed = [1, 0, 0, 0, 1]\n",
    "n = 1\n",
    "can_plant = can_place_flowers(flowerbed, n)\n",
    "print(\"Can plant\", n, \"flowers:\", can_plant)\n"
   ]
  },
  {
   "cell_type": "markdown",
   "id": "3a72cd37",
   "metadata": {},
   "source": [
    "Question 5\n",
    "Given an integer array nums, find three numbers whose product is maximum and return the maximum product.\n",
    "\n",
    "Example 1:\n",
    "Input: nums = [1,2,3]\n",
    "Output: 6"
   ]
  },
  {
   "cell_type": "code",
   "execution_count": 7,
   "id": "a65daf29",
   "metadata": {},
   "outputs": [
    {
     "name": "stdout",
     "output_type": "stream",
     "text": [
      "Maximum product of three numbers: 6\n"
     ]
    }
   ],
   "source": [
    "def maximum_product(nums):\n",
    "    nums.sort()\n",
    "\n",
    "    if nums[-1] >= 0 or nums[-2] >= 0 or nums[-3] >= 0:\n",
    "        return nums[-1] * nums[-2] * nums[-3]\n",
    "    else:\n",
    "        return max(nums[0] * nums[1] * nums[-1], nums[-1] * nums[-2] * nums[-3])\n",
    "\n",
    "# Example usage:\n",
    "nums = [1, 2, 3]\n",
    "max_product = maximum_product(nums)\n",
    "print(\"Maximum product of three numbers:\", max_product)\n"
   ]
  },
  {
   "cell_type": "markdown",
   "id": "85da7bea",
   "metadata": {},
   "source": [
    "Question 6\n",
    "Given an array of integers nums which is sorted in ascending order, and an integer target,\n",
    "write a function to search target in nums. If target exists, then return its index. Otherwise,\n",
    "return -1.\n",
    "\n",
    "You must write an algorithm with O(log n) runtime complexity.\n",
    "\n",
    "Input: nums = [-1,0,3,5,9,12], target = 9\n",
    "Output: 4\n",
    "\n",
    "Explanation: 9 exists in nums and its index is 4"
   ]
  },
  {
   "cell_type": "code",
   "execution_count": 8,
   "id": "d023091b",
   "metadata": {},
   "outputs": [
    {
     "name": "stdout",
     "output_type": "stream",
     "text": [
      "Index of target in nums: 4\n"
     ]
    }
   ],
   "source": [
    "def search(nums, target):\n",
    "    left, right = 0, len(nums) - 1\n",
    "\n",
    "    while left <= right:\n",
    "        mid = (left + right) // 2\n",
    "\n",
    "        if nums[mid] == target:\n",
    "            return mid\n",
    "        elif nums[mid] > target:\n",
    "            right = mid - 1\n",
    "        else:\n",
    "            left = mid + 1\n",
    "\n",
    "    return -1\n",
    "\n",
    "# Example usage:\n",
    "nums = [-1, 0, 3, 5, 9, 12]\n",
    "target = 9\n",
    "index = search(nums, target)\n",
    "print(\"Index of target in nums:\", index)\n"
   ]
  },
  {
   "cell_type": "markdown",
   "id": "533bd170",
   "metadata": {},
   "source": [
    "Question 7\n",
    "An array is monotonic if it is either monotone increasing or monotone decreasing.\n",
    "\n",
    "An array nums is monotone increasing if for all i <= j, nums[i] <= nums[j]. An array nums is\n",
    "monotone decreasing if for all i <= j, nums[i] >= nums[j].\n",
    "\n",
    "Given an integer array nums, return true if the given array is monotonic, or false otherwise.\n",
    "\n",
    "Example 1:\n",
    "Input: nums = [1,2,2,3]\n",
    "Output: true"
   ]
  },
  {
   "cell_type": "code",
   "execution_count": 9,
   "id": "01677c36",
   "metadata": {},
   "outputs": [
    {
     "name": "stdout",
     "output_type": "stream",
     "text": [
      "Is the array monotonic? True\n"
     ]
    }
   ],
   "source": [
    "def is_monotonic(nums):\n",
    "    isIncreasing = True\n",
    "    isDecreasing = True\n",
    "\n",
    "    for i in range(1, len(nums)):\n",
    "        if nums[i] < nums[i - 1]:\n",
    "            isIncreasing = False\n",
    "        if nums[i] > nums[i - 1]:\n",
    "            isDecreasing = False\n",
    "        if not isIncreasing and not isDecreasing:\n",
    "            return False\n",
    "\n",
    "    return True\n",
    "\n",
    "# Example usage:\n",
    "nums = [1, 2, 2, 3]\n",
    "isMonotonic = is_monotonic(nums)\n",
    "print(\"Is the array monotonic?\", isMonotonic)\n"
   ]
  },
  {
   "cell_type": "markdown",
   "id": "ae7340ee",
   "metadata": {},
   "source": [
    "Question 8\n",
    "You are given an integer array nums and an integer k.\n",
    "\n",
    "In one operation, you can choose any index i where 0 <= i < nums.length and change nums[i] to nums[i] + x where x is an integer from the range [-k, k]. You can apply this operation at most once for each index i.\n",
    "\n",
    "The score of nums is the difference between the maximum and minimum elements in nums.\n",
    "\n",
    "Return the minimum score of nums after applying the mentioned operation at most once for each index in it.\n",
    "\n",
    "Example 1:\n",
    "Input: nums = [1], k = 0\n",
    "Output: 0\n",
    "\n",
    "Explanation: The score is max(nums) - min(nums) = 1 - 1 = 0."
   ]
  },
  {
   "cell_type": "code",
   "execution_count": 10,
   "id": "72b593de",
   "metadata": {},
   "outputs": [
    {
     "name": "stdout",
     "output_type": "stream",
     "text": [
      "Minimum score: 0\n"
     ]
    }
   ],
   "source": [
    "def min_score(nums, k):\n",
    "    min_val = min(nums)\n",
    "    max_val = max(nums)\n",
    "\n",
    "    if max_val - min_val <= 2*k:\n",
    "        return 0\n",
    "    else:\n",
    "        return max_val - min_val - 2*k\n",
    "\n",
    "# Example usage:\n",
    "nums = [1]\n",
    "k = 0\n",
    "min_score = min_score(nums, k)\n",
    "print(\"Minimum score:\", min_score)\n"
   ]
  },
  {
   "cell_type": "code",
   "execution_count": null,
   "id": "8d723cd0",
   "metadata": {},
   "outputs": [],
   "source": []
  },
  {
   "cell_type": "code",
   "execution_count": null,
   "id": "b98efa87",
   "metadata": {},
   "outputs": [],
   "source": []
  }
 ],
 "metadata": {
  "kernelspec": {
   "display_name": "Python 3 (ipykernel)",
   "language": "python",
   "name": "python3"
  },
  "language_info": {
   "codemirror_mode": {
    "name": "ipython",
    "version": 3
   },
   "file_extension": ".py",
   "mimetype": "text/x-python",
   "name": "python",
   "nbconvert_exporter": "python",
   "pygments_lexer": "ipython3",
   "version": "3.9.7"
  }
 },
 "nbformat": 4,
 "nbformat_minor": 5
}
